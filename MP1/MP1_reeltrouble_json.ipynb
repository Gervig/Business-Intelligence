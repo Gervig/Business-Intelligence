{
 "cells": [
  {
   "cell_type": "markdown",
   "id": "f9e6179d-9888-4675-9b6e-44e57c1eb151",
   "metadata": {},
   "source": [
    "In this example we are loading json data from an API called ReelTrouble which we made in a previous semester. The data comes from TMDB which is an international database for movies."
   ]
  },
  {
   "cell_type": "code",
   "execution_count": 1,
   "id": "106852f4-bce3-434f-b521-4f88945c4a30",
   "metadata": {},
   "outputs": [
    {
     "name": "stdout",
     "output_type": "stream",
     "text": [
      "package imported\n"
     ]
    }
   ],
   "source": [
    "from Read.readfile.jsonio import pd, read_json, encoding_json_utf8"
   ]
  },
  {
   "cell_type": "code",
   "execution_count": 2,
   "id": "efcfbe7f-6df8-4cc3-ad20-84880043d8a4",
   "metadata": {},
   "outputs": [],
   "source": [
    "# Load JSON with utf-8\n",
    "\n",
    "data = encoding_json_utf8(\"reeltrouble.json\")"
   ]
  },
  {
   "cell_type": "code",
   "execution_count": 3,
   "id": "9497c9d8-fcc0-438b-98eb-9a4c5193c626",
   "metadata": {},
   "outputs": [],
   "source": [
    "# Ingestion\n",
    "# Convert to DataFrame\n",
    "df = pd.DataFrame(data)"
   ]
  },
  {
   "cell_type": "code",
   "execution_count": 4,
   "id": "f7115da8-3ed9-4f5b-87d5-23cb5aea714b",
   "metadata": {
    "scrolled": true
   },
   "outputs": [
    {
     "name": "stdout",
     "output_type": "stream",
     "text": [
      "<class 'pandas.core.frame.DataFrame'>\n",
      "RangeIndex: 279 entries, 0 to 278\n",
      "Data columns (total 10 columns):\n",
      " #   Column       Non-Null Count  Dtype  \n",
      "---  ------       --------------  -----  \n",
      " 0   id           279 non-null    int64  \n",
      " 1   movieApiId   279 non-null    int64  \n",
      " 2   title        279 non-null    object \n",
      " 3   description  279 non-null    object \n",
      " 4   imdbRating   279 non-null    float64\n",
      " 5   releaseDate  279 non-null    object \n",
      " 6   minutes      279 non-null    int64  \n",
      " 7   actors       279 non-null    object \n",
      " 8   directors    279 non-null    object \n",
      " 9   genres       279 non-null    object \n",
      "dtypes: float64(1), int64(3), object(6)\n",
      "memory usage: 21.9+ KB\n",
      "None\n"
     ]
    }
   ],
   "source": [
    "# Explore\n",
    "print(df.info())"
   ]
  },
  {
   "cell_type": "code",
   "execution_count": 7,
   "id": "00d950aa-a613-4055-b2c2-b2e717c9c10c",
   "metadata": {
    "collapsed": true,
    "jupyter": {
     "outputs_hidden": true
    }
   },
   "outputs": [
    {
     "name": "stdout",
     "output_type": "stream",
     "text": [
      "{\n",
      "  \"id\": 1,\n",
      "  \"movieApiId\": 822119,\n",
      "  \"title\": \"Captain America: Brave New World\",\n",
      "  \"description\": \"After meeting with newly elected U.S. President Thaddeus Ross, Sam finds himself in the middle of an international incident. He must discover the reason behind a nefarious global plot before the true mastermind has the entire world seeing red.\",\n",
      "  \"imdbRating\": 6.1,\n",
      "  \"releaseDate\": [\n",
      "    2025,\n",
      "    2,\n",
      "    12\n",
      "  ],\n",
      "  \"minutes\": 119,\n",
      "  \"actors\": [\n",
      "    {\n",
      "      \"name\": \"Travis Powers\",\n",
      "      \"id\": 3867541\n",
      "    },\n",
      "    {\n",
      "      \"name\": \"Giancarlo Esposito\",\n",
      "      \"id\": 4808\n",
      "    },\n",
      "    {\n",
      "      \"name\": \"William Mark McCullough\",\n",
      "      \"id\": 1498700\n",
      "    },\n",
      "    {\n",
      "      \"name\": \"Cris Ruiz\",\n",
      "      \"id\": 2680749\n",
      "    },\n",
      "    {\n",
      "      \"name\": \"Gabriela Amarchand\",\n",
      "      \"id\": 2761607\n",
      "    },\n",
      "    {\n",
      "      \"name\": \"Hector Banos\",\n",
      "      \"id\": 2232794\n",
      "    },\n",
      "    {\n",
      "      \"name\": \"Liv Tyler\",\n",
      "      \"id\": 882\n",
      "    },\n",
      "    {\n",
      "      \"name\": \"Ben Vazquez\",\n",
      "      \"id\": 2170784\n",
      "    },\n",
      "    {\n",
      "      \"name\": \"Xosha Roquemore\",\n",
      "      \"id\": 109565\n",
      "    },\n",
      "    {\n",
      "      \"name\": \"Ricky Robles Cruz\",\n",
      "      \"id\": 3757394\n",
      "    },\n",
      "    {\n",
      "      \"name\": \"Mark Pettit\",\n",
      "      \"id\": 3045081\n",
      "    },\n",
      "    {\n",
      "      \"name\": \"Jóhannes Haukur Jóhannesson\",\n",
      "      \"id\": 238164\n",
      "    },\n",
      "    {\n",
      "      \"name\": \"Katerina Eichenberger\",\n",
      "      \"id\": 2198128\n",
      "    },\n",
      "    {\n",
      "      \"name\": \"Dustin Lewis\",\n",
      "      \"id\": 1647234\n",
      "    },\n",
      "    {\n",
      "      \"name\": \"Eric Mbanda\",\n",
      "      \"id\": 1984461\n",
      "    },\n",
      "    {\n",
      "      \"name\": \"Alan Boell\",\n",
      "      \"id\": 1916834\n",
      "    },\n",
      "    {\n",
      "      \"name\": \"Trevor Feinstein\",\n",
      "      \"id\": 5238668\n",
      "    },\n",
      "    {\n",
      "      \"name\": \"Carl Lumbly\",\n",
      "      \"id\": 29382\n",
      "    },\n",
      "    {\n",
      "      \"name\": \"Jarrett Michael Collins\",\n",
      "      \"id\": 3229900\n",
      "    },\n",
      "    {\n",
      "      \"name\": \"Danny Ramirez\",\n",
      "      \"id\": 1773397\n",
      "    },\n",
      "    {\n",
      "      \"name\": \"Josh Robin\",\n",
      "      \"id\": 5238644\n",
      "    },\n",
      "    {\n",
      "      \"name\": \"Takehiro Hira\",\n",
      "      \"id\": 1082509\n",
      "    },\n",
      "    {\n",
      "      \"name\": \"Rachael Markarian\",\n",
      "      \"id\": 143742\n",
      "    },\n",
      "    {\n",
      "      \"name\": \"Todd Allen Durkin\",\n",
      "      \"id\": 1789189\n",
      "    },\n",
      "    {\n",
      "      \"name\": \"Rick Espaillat\",\n",
      "      \"id\": 111029\n",
      "    },\n",
      "    {\n",
      "      \"name\": \"Anthony Mackie\",\n",
      "      \"id\": 53650\n",
      "    },\n",
      "    {\n",
      "      \"name\": \"Will Holland\",\n",
      "      \"id\": 1329322\n",
      "    },\n",
      "    {\n",
      "      \"name\": \"Robert Tretsch\",\n",
      "      \"id\": 5238661\n",
      "    },\n",
      "    {\n",
      "      \"name\": \"Ariana Lugo\",\n",
      "      \"id\": 4947320\n",
      "    },\n",
      "    {\n",
      "      \"name\": \"Bill Stinchcomb\",\n",
      "      \"id\": 86536\n",
      "    },\n",
      "    {\n",
      "      \"name\": \"Diesel Madkins\",\n",
      "      \"id\": 1685538\n",
      "    },\n",
      "    {\n",
      "      \"name\": \"Harsh Nayyar\",\n",
      "      \"id\": 20807\n",
      "    },\n",
      "    {\n",
      "      \"name\": \"Pete Burris\",\n",
      "      \"id\": 1371000\n",
      "    },\n",
      "    {\n",
      "      \"name\": \"Sebastian Stan\",\n",
      "      \"id\": 60898\n",
      "    },\n",
      "    {\n",
      "      \"name\": \"Marissa Chanel Hampton\",\n",
      "      \"id\": 2295819\n",
      "    },\n",
      "    {\n",
      "      \"name\": \"Ava Hill\",\n",
      "      \"id\": 3510275\n",
      "    },\n",
      "    {\n",
      "      \"name\": \"Phuong Kubacki\",\n",
      "      \"id\": 2025638\n",
      "    },\n",
      "    {\n",
      "      \"name\": \"Tomoko Karina\",\n",
      "      \"id\": 1472256\n",
      "    },\n",
      "    {\n",
      "      \"name\": \"Sandra Aparicio\",\n",
      "      \"id\": 5238654\n",
      "    },\n",
      "    {\n",
      "      \"name\": \"Jacqueline Loucks\",\n",
      "      \"id\": 4451980\n",
      "    },\n",
      "    {\n",
      "      \"name\": \"Harrison Ford\",\n",
      "      \"id\": 3\n",
      "    },\n",
      "    {\n",
      "      \"name\": \"John Mark Bowman\",\n",
      "      \"id\": 5238641\n",
      "    },\n",
      "    {\n",
      "      \"name\": \"Chealon Miller\",\n",
      "      \"id\": 5238667\n",
      "    },\n",
      "    {\n",
      "      \"name\": \"Matthew Cornwell\",\n",
      "      \"id\": 1068811\n",
      "    },\n",
      "    {\n",
      "      \"name\": \"Shira Haas\",\n",
      "      \"id\": 1394332\n",
      "    },\n",
      "    {\n",
      "      \"name\": \"Sharon Tazewell\",\n",
      "      \"id\": 5238645\n",
      "    },\n",
      "    {\n",
      "      \"name\": \"Koji Nishiyama\",\n",
      "      \"id\": 3030352\n",
      "    },\n",
      "    {\n",
      "      \"name\": \"Katina Rankin\",\n",
      "      \"id\": 4969514\n",
      "    },\n",
      "    {\n",
      "      \"name\": \"David Atkinson\",\n",
      "      \"id\": 115444\n",
      "    },\n",
      "    {\n",
      "      \"name\": \"Yaz Takahashi\",\n",
      "      \"id\": 3320064\n",
      "    },\n",
      "    {\n",
      "      \"name\": \"Tim Blake Nelson\",\n",
      "      \"id\": 1462\n",
      "    }\n",
      "  ],\n",
      "  \"directors\": [\n",
      "    {\n",
      "      \"name\": \"Julius Onah\",\n",
      "      \"id\": 1301933\n",
      "    }\n",
      "  ],\n",
      "  \"genres\": [\n",
      "    {\n",
      "      \"name\": \"Action\",\n",
      "      \"id\": 28\n",
      "    },\n",
      "    {\n",
      "      \"name\": \"Thriller\",\n",
      "      \"id\": 53\n",
      "    },\n",
      "    {\n",
      "      \"name\": \"Science Fiction\",\n",
      "      \"id\": 878\n",
      "    }\n",
      "  ]\n",
      "}\n"
     ]
    }
   ],
   "source": [
    "# Pretty-print first movie\n",
    "print(json.dumps(data[0], indent=2, ensure_ascii=False))"
   ]
  },
  {
   "cell_type": "markdown",
   "id": "9d9ae162-080e-46c0-845f-568260af0316",
   "metadata": {},
   "source": [
    "The data is a list of json objects for movies, where actors is a list inside each movie. We will then expand actors into its own dataframe."
   ]
  },
  {
   "cell_type": "code",
   "execution_count": 9,
   "id": "7ef37b47-59e7-4c67-bec8-3f6b26b721a3",
   "metadata": {},
   "outputs": [],
   "source": [
    "# Cleaning\n",
    "# Expand actors\n",
    "actors_df = df[['id', 'actors']].explode('actors')\n",
    "\n",
    "# Expand the actors dict into columns\n",
    "actors_expanded = actors_df['actors'].apply(pd.Series)\n",
    "\n",
    "# Rename the columns to clarify\n",
    "actors_expanded = actors_expanded.rename(columns={'id': 'actor_id', 'name': 'actor_name'})\n",
    "\n",
    "# Combine with movie id\n",
    "actors_df = pd.concat([actors_df.drop(columns=['actors']), actors_expanded], axis=1)\n"
   ]
  },
  {
   "cell_type": "code",
   "execution_count": 21,
   "id": "5758ad4a-4266-48e4-a7b0-93839c53a0f8",
   "metadata": {},
   "outputs": [
    {
     "name": "stdout",
     "output_type": "stream",
     "text": [
      "      actor_id            actor_name  movie_count\n",
      "0            2           Mark Hamill            2\n",
      "8           53        Peter Stormare            2\n",
      "9           63        Milla Jovovich            2\n",
      "13         112        Cate Blanchett            2\n",
      "17         140              Lucy Liu            3\n",
      "...        ...                   ...          ...\n",
      "7889   5153550            Yves Cueni            2\n",
      "7893   5153559       Jonathan Bourne            2\n",
      "8033   5217381           Ben Blevins            2\n",
      "8104   5234074  Batanai Mashingaidze            2\n",
      "8435   5333275             Will Fitz            2\n",
      "\n",
      "[727 rows x 3 columns]\n",
      "Actors that only appear in 1 movie: 7834\n",
      "Total amount of actors 8561\n"
     ]
    }
   ],
   "source": [
    "# Count how many movies each actor appears in\n",
    "actor_counts = actors_df.groupby(['actor_id', 'actor_name'])['id'].nunique().reset_index(name='movie_count')\n",
    "\n",
    "# Filter actors who appear in more than one movie\n",
    "repeated_actors = actor_counts[actor_counts['movie_count'] > 1]\n",
    "\n",
    "# Filter actors who only appear in one movie\n",
    "non_repeated_actors = actor_counts[actor_counts['movie_count'] == 1]\n",
    "\n",
    "print(repeated_actors)\n",
    "print('Actors that only appear in 1 movie:', len(non_repeated_actors))\n",
    "print('Total amount of actors:', len(non_repeated_actors)+len(repeated_actors))"
   ]
  },
  {
   "cell_type": "code",
   "execution_count": 8,
   "id": "42665aae-6514-42ab-b045-9cc06b55d212",
   "metadata": {},
   "outputs": [],
   "source": [
    "# Anonymisation\n",
    "# TODO: Try using faker library instead\n",
    "# hide actor/director names\n",
    "import hashlib\n",
    "\n",
    "def anonymize_name(name: str) -> str:\n",
    "    \"\"\"Return anonymized version of a name using hashing.\"\"\"\n",
    "    return hashlib.sha256(name.encode()).hexdigest()[:10]  # shorten hash\n",
    "\n",
    "# Apply to actors\n",
    "actors_df['anon_name'] = actors_df['name'].apply(anonymize_name)\n",
    "\n",
    "# Apply to directors\n",
    "directors_df['anon_name'] = directors_df['name'].apply(anonymize_name)\n"
   ]
  },
  {
   "cell_type": "code",
   "execution_count": 10,
   "id": "5d4c7a3b-e272-4663-a163-5cf1e8970d98",
   "metadata": {},
   "outputs": [
    {
     "data": {
      "image/png": "[encoded data removed]",
      "text/plain": [
       "<Figure size 640x480 with 1 Axes>"
      ]
     },
     "metadata": {},
     "output_type": "display_data"
    }
   ],
   "source": [
    "# Visualisation\n",
    "import matplotlib.pyplot as plt\n",
    "\n",
    "# Example 1: Distribution of IMDB ratings\n",
    "df['imdbRating'].plot(kind='hist', bins=10, title=\"IMDB Rating Distribution\")\n",
    "plt.show()\n"
   ]
  },
  {
   "cell_type": "markdown",
   "id": "9591042f-e9c4-44d5-b334-1cad0cbf1941",
   "metadata": {},
   "source": [
    "This graph shows the distribution of IMDB ratings for all the movies. The ReelTrouble API only works with movies over a certain rating (I think it was 2). Therefor there aren't any low rated movies displayed in the graph."
   ]
  },
  {
   "cell_type": "code",
   "execution_count": 11,
   "id": "ecb3d1c5-1131-4ae2-8ac2-712aa85f22e4",
   "metadata": {},
   "outputs": [
    {
     "data": {
      "image/png": "[encoded data removed]",
      "text/plain": [
       "<Figure size 640x480 with 1 Axes>"
      ]
     },
     "metadata": {},
     "output_type": "display_data"
    }
   ],
   "source": [
    "# Example 2: Movie lengths\n",
    "df['minutes'].plot(kind='box', title=\"Movie Runtime Distribution\")\n",
    "plt.show()"
   ]
  },
  {
   "cell_type": "markdown",
   "id": "6f68353d-2a78-46f5-83e4-92a2c2fdcf81",
   "metadata": {},
   "source": [
    "The Boxplot graph illustrates the runtime of the movies in minutes, the white dots are outliers. ReelTrouble has a few shortfilms which can explain the outliers at the bottom."
   ]
  },
  {
   "cell_type": "code",
   "execution_count": 12,
   "id": "1ba27e77-5344-47bb-a1fb-f1f1ffdfc0d7",
   "metadata": {},
   "outputs": [
    {
     "data": {
      "image/png": "[encoded data removed]",
      "text/plain": [
       "<Figure size 640x480 with 1 Axes>"
      ]
     },
     "metadata": {},
     "output_type": "display_data"
    }
   ],
   "source": [
    "# Example 3: Count of genres\n",
    "all_genres = df['genres'].explode().dropna()\n",
    "genre_counts = pd.DataFrame(all_genres.tolist())['name'].value_counts()\n",
    "\n",
    "genre_counts.plot(kind='bar', title=\"Genres Distribution\")\n",
    "plt.show()"
   ]
  },
  {
   "cell_type": "markdown",
   "id": "685e08a7-2790-489f-b557-a42050304963",
   "metadata": {},
   "source": [
    "This graph shows the distribution of different genres. ReelTrouble only has movies from the last year."
   ]
  }
 ],
 "metadata": {
  "kernelspec": {
   "display_name": "Python [conda env:base] *",
   "language": "python",
   "name": "conda-base-py"
  },
  "language_info": {
   "codemirror_mode": {
    "name": "ipython",
    "version": 3
   },
   "file_extension": ".py",
   "mimetype": "text/x-python",
   "name": "python",
   "nbconvert_exporter": "python",
   "pygments_lexer": "ipython3",
   "version": "3.13.5"
  }
 },
 "nbformat": 4,
 "nbformat_minor": 5
}
