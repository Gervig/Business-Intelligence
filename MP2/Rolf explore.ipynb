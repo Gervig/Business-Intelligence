{
 "cells": [
  {
   "cell_type": "code",
   "execution_count": null,
   "id": "cd42b49f-772d-4da7-ae40-e26a9bcf3170",
   "metadata": {},
   "outputs": [],
   "source": [
    "import pandas as pd\n",
    "import matplotlib.pyplot as plt #Scatterplot\n",
    "import seaborn as sb\n",
    "import numpy as np"
   ]
  },
  {
   "cell_type": "code",
   "execution_count": null,
   "id": "3ad4b982",
   "metadata": {},
   "outputs": [],
   "source": [
    "from sklearn.preprocessing import MinMaxScaler\n",
    "# Scatter matrix\n",
    "from pandas.plotting import scatter_matrix"
   ]
  },
  {
   "cell_type": "markdown",
   "id": "5b9299cc",
   "metadata": {},
   "source": [
    "# MP2"
   ]
  },
  {
   "cell_type": "markdown",
   "id": "6431848c-6053-4295-8d79-70e358c6e0e0",
   "metadata": {},
   "source": [
    "## Ingesting the data"
   ]
  },
  {
   "cell_type": "code",
   "execution_count": null,
   "id": "106dd36a-78a9-4cc9-a022-26fe11e8d706",
   "metadata": {},
   "outputs": [],
   "source": [
    "#The data is placed in an folder so we load the data through the folder with \\\n",
    "data1 = pd.read_excel(\"wine-data\\winequality-red.xlsx\", header=1)\n",
    "data2 = pd.read_excel(\"wine-data\\winequality-white.xlsx\", header=1)"
   ]
  },
  {
   "cell_type": "markdown",
   "id": "71f6a7f6-7270-411d-b950-062a8958f6a0",
   "metadata": {},
   "source": [
    "### Aggregating the data together into one data file - but first we add a column named type"
   ]
  },
  {
   "cell_type": "code",
   "execution_count": null,
   "id": "9d7db624-43ba-4277-a9e2-5f94174ad239",
   "metadata": {},
   "outputs": [],
   "source": [
    "#Adding the type\n",
    "data1[\"type\"] = \"red\"\n",
    "data2[\"type\"] = \"white\"\n",
    "\n",
    "# Merge/concatenate - the ignore_index resets the index numbers\n",
    "wine = pd.concat([data1, data2], ignore_index=True)"
   ]
  },
  {
   "cell_type": "code",
   "execution_count": null,
   "id": "35d18f2a-c646-43f8-8f37-8e6af63a7af3",
   "metadata": {},
   "outputs": [],
   "source": [
    "#Shows a random sample, to show that the data is mixed\n",
    "wine.sample(10)"
   ]
  },
  {
   "cell_type": "markdown",
   "id": "ee35141f-517c-4520-b6dd-a6808e2fa9b2",
   "metadata": {},
   "source": [
    "## Cleaning the data"
   ]
  },
  {
   "cell_type": "code",
   "execution_count": null,
   "id": "3f75fb77-73c9-4685-8ff9-562327ac0b20",
   "metadata": {},
   "outputs": [],
   "source": [
    "#We use shape to show the size of the dataset, through the number of observations and how many variables there are\n",
    "wine.shape"
   ]
  },
  {
   "cell_type": "code",
   "execution_count": null,
   "id": "d67adab6-41e7-4130-b4ae-11c2f48987de",
   "metadata": {},
   "outputs": [],
   "source": [
    "#Finding missing values (null) - It shows how many of the different variables has null values\n",
    "print(wine.isnull().sum())"
   ]
  },
  {
   "cell_type": "markdown",
   "id": "586dacd4-ecfb-41b9-8b3b-04f1ee29ef84",
   "metadata": {},
   "source": [
    "### Since there are no null values, we do not need to drop them"
   ]
  },
  {
   "cell_type": "code",
   "execution_count": null,
   "id": "faf44f76-e523-4ac4-bf0e-234348e75d43",
   "metadata": {},
   "outputs": [],
   "source": [
    "#Shows how many duplicated values there are. It compares all of the columns.\n",
    "wine.duplicated().sum()"
   ]
  },
  {
   "cell_type": "markdown",
   "id": "6acea351-a1d5-41b6-bdc4-1b5536a54cec",
   "metadata": {},
   "source": [
    "### We therefore have 1177 duplicates"
   ]
  },
  {
   "cell_type": "code",
   "execution_count": null,
   "id": "e02053d3-151a-47a5-b6c3-590cf998df91",
   "metadata": {},
   "outputs": [],
   "source": [
    "#This shows the first five duplicates.\n",
    "duplicates = wine[wine.duplicated()]\n",
    "print(duplicates.head())"
   ]
  },
  {
   "cell_type": "code",
   "execution_count": null,
   "id": "601b6e56-60c5-464e-bc35-8edb9b848660",
   "metadata": {},
   "outputs": [],
   "source": [
    "#Dropping the 1177 duplicates and resetting the index\n",
    "wine.drop_duplicates(inplace=True, ignore_index=True)"
   ]
  },
  {
   "cell_type": "markdown",
   "id": "08cd488a-5377-498e-965b-65bdda55baee",
   "metadata": {},
   "source": [
    "### Checking for damaged values"
   ]
  },
  {
   "cell_type": "code",
   "execution_count": null,
   "id": "f9697f08-2d54-4c27-a31c-6f5b45cc5460",
   "metadata": {},
   "outputs": [],
   "source": [
    "#Negative values - \n",
    "(wine.drop(columns=\"type\") < 0).sum()"
   ]
  },
  {
   "cell_type": "code",
   "execution_count": null,
   "id": "8a6225b8-f022-41b2-86c6-819f634007b2",
   "metadata": {},
   "outputs": [],
   "source": [
    "#pH value 7 or bigger for wine, as wine is acid and 7 is neutral - \n",
    "wine[(wine['pH']>7)].sum()"
   ]
  },
  {
   "cell_type": "raw",
   "id": "b56948de-a53a-4401-93d0-a88732521f44",
   "metadata": {},
   "source": [
    "There at no damaged values, and therefore none to remove"
   ]
  },
  {
   "cell_type": "markdown",
   "id": "0c3824cf-2c2a-4139-9a3d-6b43e28d0d7f",
   "metadata": {},
   "source": [
    "## The outliers for the \"accepted\" wine values"
   ]
  },
  {
   "cell_type": "code",
   "execution_count": null,
   "id": "14f4aa72-d98b-4866-956a-eeccebaa9d81",
   "metadata": {},
   "outputs": [],
   "source": [
    "def check_min_max(list, expected_range):\n",
    "    report = []\n",
    "    for col, (min_val, max_val) in expected_range.items():\n",
    "        count = ((list[col] < min_val) | (list[col] > max_val)).sum()\n",
    "        report.append({\"column\": col, \"outliers\": count})\n",
    "\n",
    "    report_df = pd.DataFrame(report)\n",
    "    print(report_df)"
   ]
  },
  {
   "cell_type": "code",
   "execution_count": null,
   "id": "e7b2e906-a6b7-43d0-8f59-a1ae861c04b6",
   "metadata": {},
   "outputs": [],
   "source": [
    "#Our expected ranges for red wine\n",
    "expected_ranges_red = {\n",
    "    \"fixed acidity\": (4.6, 15.9),\n",
    "    \"volatile acidity\": (0.12, 1.58),\n",
    "    \"citric acid\": (0.0, 1.0),\n",
    "    \"residual sugar\": (0.9, 15.5),\n",
    "    \"chlorides\": (0.012, 0.611),\n",
    "    \"free sulfur dioxide\": (1, 72),\n",
    "    \"total sulfur dioxide\": (6, 289),\n",
    "    \"density\": (0.99007, 1.00369),\n",
    "    \"pH\": (2.74, 4.01),\n",
    "    \"sulphates\": (0.33, 2.0),\n",
    "    \"alcohol\": (8.4, 14.9),\n",
    "    \"quality\": (3, 8)\n",
    "}\n",
    "red_wine = wine[wine[\"type\"] == \"red\"]\n",
    "\n",
    "check_min_max(red_wine, expected_ranges_red)"
   ]
  },
  {
   "cell_type": "code",
   "execution_count": null,
   "id": "882f3fd7-9559-4bcb-85c8-4477d83bdd45",
   "metadata": {},
   "outputs": [],
   "source": [
    "#Our expected ranges for white wine\n",
    "expected_ranges_white = {\n",
    "    \"fixed acidity\": (3.8, 14.2),\n",
    "    \"volatile acidity\": (0.08, 1.10),\n",
    "    \"citric acid\": (0.0, 1.66),\n",
    "    \"residual sugar\": (0.6, 65.8),\n",
    "    \"chlorides\": (0.009, 0.346),\n",
    "    \"free sulfur dioxide\": (2, 289),\n",
    "    \"total sulfur dioxide\": (9, 440),\n",
    "    \"density\": (0.98711, 1.03898),\n",
    "    \"pH\": (2.72, 3.82),\n",
    "    \"sulphates\": (0.22, 1.08),\n",
    "    \"alcohol\": (8.0, 14.2),\n",
    "    \"quality\": (3, 9)\n",
    "}\n",
    "\n",
    "#Right now we are only checking for the values of white wine, so we need to filter on the type of wine\n",
    "white_wine = wine[wine[\"type\"] == \"white\"]\n",
    "\n",
    "check_min_max(white_wine, expected_ranges_white)"
   ]
  },
  {
   "cell_type": "code",
   "execution_count": null,
   "id": "b55ff05b-1987-4038-a333-d40aea34de7f",
   "metadata": {},
   "outputs": [],
   "source": [
    "#Shows the count, mean std fopr the collective winelist\n",
    "wine.describe()"
   ]
  },
  {
   "cell_type": "code",
   "execution_count": null,
   "id": "96c30d6c-bc1a-4e2a-8d55-f2e95dca1a62",
   "metadata": {},
   "outputs": [],
   "source": [
    "#Description of red wine - the list is made previously: red_wine = wine[wine[\"type\"] == \"red\"]\n",
    "red_wine.describe()"
   ]
  },
  {
   "cell_type": "code",
   "execution_count": null,
   "id": "bebe6264-6f5c-4f6f-8154-64364de6071e",
   "metadata": {},
   "outputs": [],
   "source": [
    "#Description of white wine - the list is made previously: white_wine = wine[wine[\"type\"] == \"white\"]\n",
    "white_wine.describe()"
   ]
  },
  {
   "cell_type": "code",
   "execution_count": null,
   "id": "b6f20138-c829-4ae6-8612-5ceed8a0b605",
   "metadata": {},
   "outputs": [],
   "source": [
    "#The shape of red wine after cleaning\n",
    "red_wine.shape"
   ]
  },
  {
   "cell_type": "code",
   "execution_count": null,
   "id": "a3c25b9d-9041-4000-838e-002237177d8b",
   "metadata": {},
   "outputs": [],
   "source": [
    "#The shape of white wine after cleaning\n",
    "white_wine.shape"
   ]
  },
  {
   "cell_type": "markdown",
   "id": "62753450",
   "metadata": {},
   "source": [
    "## Endcoding"
   ]
  },
  {
   "cell_type": "code",
   "execution_count": null,
   "id": "dd24503d",
   "metadata": {},
   "outputs": [],
   "source": [
    "#Pre Label encoding - Categorical Encoding\n",
    "wine.dtypes\n",
    "\n",
    "wine[\"type\"] = wine[\"type\"].astype(\"category\")\n",
    "\n",
    "wine.dtypes\n",
    "\n",
    "cat_data = wine.select_dtypes('category').columns\n",
    "\n",
    "# print these columns only\n",
    "wine[cat_data].sample(10)\n",
    "\n",
    "categorical_data = wine[cat_data]"
   ]
  },
  {
   "cell_type": "code",
   "execution_count": null,
   "id": "aa91fa4c",
   "metadata": {},
   "outputs": [],
   "source": [
    "# Label Endcoding which is converting the text values into numerical values\n",
    "\n",
    "cats = categorical_data[\"type\"].unique()\n",
    "\n",
    "categorical_data = wine[[\"type\"]].copy()\n",
    "categorical_data[\"type_encoded\"] = categorical_data[\"type\"].cat.codes"
   ]
  },
  {
   "cell_type": "code",
   "execution_count": null,
   "id": "08e92a97",
   "metadata": {},
   "outputs": [],
   "source": [
    "# adding the encoded column to the original dataframe and dropping the text column\n",
    "# White wine = 1 and red wine = 0\n",
    "wine[\"type_encoded\"] = wine[\"type\"].cat.codes\n",
    "\n",
    "wine_transformed = wine.drop([\"type\"], axis=1)"
   ]
  },
  {
   "cell_type": "markdown",
   "id": "efd46520",
   "metadata": {},
   "source": [
    "### Normalization"
   ]
  },
  {
   "cell_type": "code",
   "execution_count": null,
   "id": "1f6ac2bb",
   "metadata": {},
   "outputs": [],
   "source": [
    "# Sørg for, at kolonnen \"type_encoded\" er til stede i red_wine og white_wine\n",
    "red_wine[\"type_encoded\"] = wine[wine[\"type\"] == \"red\"][\"type_encoded\"]\n",
    "white_wine[\"type_encoded\"] = wine[wine[\"type\"] == \"white\"][\"type_encoded\"]\n",
    "\n",
    "# Fjern kolonnen \"type\" fra red_wine og white_wine\n",
    "red_wine_transformed = red_wine.drop(columns=[\"type\"]).copy()\n",
    "white_wine_transformed = white_wine.drop(columns=[\"type\"]).copy()\n",
    "\n",
    "# normalization - Scaling the data to a range of 0 to 1\n",
    "scaler = MinMaxScaler()\n",
    "\n",
    "# Fit og transformér hele datasættet\n",
    "all_wine_norm = scaler.fit_transform(wine_transformed)\n",
    "\n",
    "# Brug transform() for at genbruge skalaen på red_wine og white_wine\n",
    "red_wine_norm = scaler.transform(red_wine_transformed)\n",
    "white_wine_norm = scaler.transform(white_wine_transformed)\n",
    "\n",
    "# Konverter tilbage til DataFrame for at bevare kolonnenavne\n",
    "all_wine_norm = pd.DataFrame(all_wine_norm, columns=wine_transformed.columns)\n",
    "red_wine_norm = pd.DataFrame(red_wine_norm, columns=red_wine_transformed.columns)\n",
    "white_wine_norm = pd.DataFrame(white_wine_norm, columns=white_wine_transformed.columns)\n",
    "\n",
    "# Udskriv resultater\n",
    "print(all_wine_norm.head())\n",
    "print(red_wine_norm.head())\n",
    "print(white_wine_norm.head())"
   ]
  },
  {
   "cell_type": "code",
   "execution_count": null,
   "id": "be61c4ef",
   "metadata": {},
   "outputs": [],
   "source": [
    "# normal distrubted histogram -> bellcurve\n",
    "\n",
    "# Histogram af kvalitet for rød, hvid og alle vine\n",
    "plt.figure(figsize=(12, 6))\n",
    "\n",
    "# Histogram for rødvin\n",
    "plt.hist(wine[wine[\"type\"] == \"red\"][\"quality\"], bins=10, alpha=0.5, label=\"Red wine\", color=\"red\", edgecolor=\"black\")\n",
    "\n",
    "# Histogram for hvidvin\n",
    "plt.hist(wine[wine[\"type\"] == \"white\"][\"quality\"], bins=10, alpha=0.5, label=\"White wine\", color=\"orange\", edgecolor=\"black\")\n",
    "\n",
    "# Histogram for alle vine\n",
    "plt.hist(wine[\"quality\"], bins=10, alpha=0.5, label=\"All wines\", color=\"blue\", edgecolor=\"black\")\n",
    "\n",
    "# Tilføj labels og titel\n",
    "plt.xlabel(\"Quality\")\n",
    "plt.ylabel(\"Count\")\n",
    "plt.title(\"Distribution of Wine Quality (Red, White, and All Wines)\")\n",
    "plt.legend()\n",
    "plt.show()"
   ]
  },
  {
   "cell_type": "markdown",
   "id": "48df32b0",
   "metadata": {},
   "source": [
    "## Exploration"
   ]
  },
  {
   "cell_type": "markdown",
   "id": "099c9fb3",
   "metadata": {},
   "source": [
    "### Correlation"
   ]
  },
  {
   "cell_type": "code",
   "execution_count": null,
   "id": "28487717",
   "metadata": {},
   "outputs": [],
   "source": [
    "# Calculates the correlation values\n",
    "pre_norm_corr_all = wine.corr(method='pearson', numeric_only=True)\n",
    "# Prints the correlation coeficients in a table for all the values\n",
    "pre_norm_corr_all"
   ]
  },
  {
   "cell_type": "code",
   "execution_count": null,
   "id": "21aa352a",
   "metadata": {},
   "outputs": [],
   "source": [
    "# Calculates the correlation values\n",
    "post_norm_corr_red = red_wine_norm.corr(method='pearson', numeric_only=True)\n",
    "# Prints the correlation coeficients in a table for all the values\n",
    "post_norm_corr_red"
   ]
  },
  {
   "cell_type": "code",
   "execution_count": null,
   "id": "392cd5c4",
   "metadata": {},
   "outputs": [],
   "source": [
    "# Calculates the correlation values\n",
    "post_norm_corr_white = white_wine_norm.corr(method='pearson', numeric_only=True)\n",
    "# Prints the correlation coeficients in a table for all the values\n",
    "post_norm_corr_white"
   ]
  },
  {
   "cell_type": "code",
   "execution_count": null,
   "id": "cc0f57a1",
   "metadata": {},
   "outputs": [],
   "source": [
    "# Calculates the correlation values\n",
    "post_norm_corr_all = all_wine_norm.corr(method='pearson', numeric_only=True)\n",
    "# Prints the correlation coeficients in a table for all the values\n",
    "post_norm_corr_all"
   ]
  },
  {
   "cell_type": "code",
   "execution_count": null,
   "id": "b5326c50",
   "metadata": {},
   "outputs": [],
   "source": []
  },
  {
   "cell_type": "code",
   "execution_count": null,
   "id": "29dc541b",
   "metadata": {},
   "outputs": [],
   "source": [
    "#heatmap with normalized data\n",
    "# Heatmap\n",
    "plt.figure(figsize=(12, 10))\n",
    "sb.heatmap(post_norm_corr_all, annot=True, cmap='coolwarm')\n",
    "plt.title(\"All wines - post normaliztion\", fontsize=14)\n",
    "plt.show()"
   ]
  },
  {
   "cell_type": "markdown",
   "id": "2925a0e4",
   "metadata": {},
   "source": [
    "## Correlations for all wines seems to low everywhere,so it warrents that we check red and white for them selves"
   ]
  },
  {
   "cell_type": "code",
   "execution_count": null,
   "id": "3f95e30c",
   "metadata": {},
   "outputs": [],
   "source": [
    "# Heatmap\n",
    "plt.figure(figsize=(12, 10))\n",
    "sb.heatmap(post_norm_corr_white, annot=True, cmap='coolwarm')\n",
    "plt.title(\"White wine - post normaliztion\", fontsize=14)\n",
    "\n",
    "plt.show()"
   ]
  },
  {
   "cell_type": "markdown",
   "id": "dc57e5b9",
   "metadata": {},
   "source": [
    "## The correlations for white wine:\n",
    "it is high for:  \n",
    "    1: density and residual sugar \n",
    "    2: density and alcohol"
   ]
  },
  {
   "cell_type": "code",
   "execution_count": null,
   "id": "807eaee8",
   "metadata": {},
   "outputs": [],
   "source": [
    "# Heatmap\n",
    "plt.figure(figsize=(12, 10))\n",
    "sb.heatmap(post_norm_corr_red, annot=True, cmap='coolwarm')\n",
    "plt.title(\"Red wines - post normaliztion\", fontsize=14)\n",
    "\n",
    "plt.show()"
   ]
  },
  {
   "cell_type": "markdown",
   "id": "1c2141a9",
   "metadata": {},
   "source": [
    "## The correlations for red wine:\n",
    "it is high for:\n",
    "1. fixed acidity and Ph\n",
    "2. fixed acidity and density\n",
    "\n",
    "low for :\n",
    "1. pH and citric acid\n",
    "2. alcohol and density\n"
   ]
  },
  {
   "cell_type": "markdown",
   "id": "c3b3626f",
   "metadata": {},
   "source": [
    "## Warrents futher investigation for correlations\n",
    "\n",
    "1. we want to see why residual sugar and alcohol compared to density doesn't correlate the same for red and white wine\n",
    "2. we want to see why acids doesn't have a higher correlations with pH"
   ]
  },
  {
   "cell_type": "code",
   "execution_count": null,
   "id": "db9fae46",
   "metadata": {},
   "outputs": [],
   "source": [
    "# --- Filtrer data ---\n",
    "red_wine_filtered = red_wine[red_wine[\"fixed acidity\"] < 14]\n",
    "white_wine_filtered = white_wine[white_wine[\"fixed acidity\"] < 14]\n",
    "\n",
    "# --- Find fælles skala ---\n",
    "xmin = min(red_wine_filtered[\"pH\"].min(), white_wine_filtered[\"pH\"].min())\n",
    "xmax = max(red_wine_filtered[\"pH\"].max(), white_wine_filtered[\"pH\"].max())\n",
    "ymin = min(red_wine_filtered[\"fixed acidity\"].min(), white_wine_filtered[\"fixed acidity\"].min())\n",
    "ymax = max(red_wine_filtered[\"fixed acidity\"].max(), white_wine_filtered[\"fixed acidity\"].max())\n",
    "\n",
    "# --- Opret figur med 2 subplots ---\n",
    "fig, axes = plt.subplots(1, 2, figsize=(14, 6), sharex=True, sharey=True)\n",
    "\n",
    "# --- Scatterplot for rødvin ---\n",
    "axes[0].scatter(red_wine_filtered[\"pH\"], red_wine_filtered[\"fixed acidity\"],\n",
    "                alpha=0.5, color=\"red\")\n",
    "axes[0].set_title(\"Red Wine\")\n",
    "axes[0].set_xlabel(\"pH\")\n",
    "axes[0].set_ylabel(\"Fixed acidity\")\n",
    "axes[0].set_xlim(xmin, xmax)\n",
    "axes[0].set_ylim(ymin, ymax)\n",
    "\n",
    "# --- Scatterplot for hvidvin ---\n",
    "axes[1].scatter(white_wine_filtered[\"pH\"], white_wine_filtered[\"fixed acidity\"],\n",
    "                alpha=0.5, color=\"orange\")\n",
    "axes[1].set_title(\"White Wine\")\n",
    "axes[1].set_xlabel(\"pH\")\n",
    "axes[1].set_xlim(xmin, xmax)\n",
    "axes[1].set_ylim(ymin, ymax)\n",
    "\n",
    "# --- Tilpas layout ---\n",
    "fig.suptitle(\"Scatterplot of pH vs Fixed Acidity (Same Scale)\", fontsize=16)\n",
    "plt.tight_layout()\n",
    "plt.show()"
   ]
  },
  {
   "cell_type": "markdown",
   "id": "6dc0fd30",
   "metadata": {},
   "source": [
    "## Findings? explore more before conclusion\n",
    "/ the correlation between fixed acidity and pH seems to be different between red and white could partly due we have 3 times the amount of data points for white wine /"
   ]
  },
  {
   "cell_type": "code",
   "execution_count": null,
   "id": "14764a38",
   "metadata": {},
   "outputs": [],
   "source": [
    "# a. Boxplots for at sammenligne fordelingen af quality, alcohol og residual sugar\n",
    "plt.figure(figsize=(12,4))\n",
    "plt.subplot(1,3,1)\n",
    "sb.boxplot(x=\"type\", y=\"quality\", data=wine)\n",
    "plt.title(\"Quality by Wine Type\")\n",
    "plt.subplot(1,3,2)\n",
    "sb.boxplot(x=\"type\", y=\"alcohol\", data=wine)\n",
    "plt.title(\"Alcohol by Wine Type\")\n",
    "plt.subplot(1,3,3)\n",
    "sb.boxplot(x=\"type\", y=\"residual sugar\", data=wine)\n",
    "plt.title(\"Residual Sugar by Wine Type\")\n",
    "plt.tight_layout()\n",
    "plt.show()"
   ]
  },
  {
   "cell_type": "code",
   "execution_count": null,
   "id": "bd12cd4d",
   "metadata": {},
   "outputs": [],
   "source": [
    "# which type of wine has higher average quality, how big is the difference?\n",
    "mean_quality = wine.groupby(\"type\")[\"quality\"].mean()\n",
    "print(\"average quality:\\n\", mean_quality)\n",
    "print(\"difference:\", abs(mean_quality[\"white\"] - mean_quality[\"red\"]))\n",
    "\n",
    "# white has on average higher quality"
   ]
  },
  {
   "cell_type": "code",
   "execution_count": null,
   "id": "61d5da46",
   "metadata": {},
   "outputs": [],
   "source": [
    "# which type of wine has higher average level of alcohol?\n",
    "mean_alcohol = wine.groupby(\"type\")[\"alcohol\"].mean()\n",
    "print(\"Average alcohol:\\n\", mean_alcohol)\n",
    "print(\"difference:\", abs(mean_alcohol[\"white\"] - mean_alcohol[\"red\"]))\n",
    "\n",
    "# white has on average higher level of alcohol"
   ]
  },
  {
   "cell_type": "code",
   "execution_count": null,
   "id": "610ae86a",
   "metadata": {},
   "outputs": [],
   "source": [
    "# which one has higher average quantity of residual sugar?\n",
    "\n",
    "mean_sugar = wine.groupby(\"type\")[\"residual sugar\"].mean()\n",
    "print(\"Average residual sugar:\\n\", mean_sugar)\n",
    "print(\"difference:\", abs(mean_sugar[\"white\"] - mean_sugar[\"red\"]))\n",
    "\n",
    "# white has on average higher quantity of residual sugar"
   ]
  },
  {
   "cell_type": "code",
   "execution_count": null,
   "id": "b0d400c3",
   "metadata": {},
   "outputs": [],
   "source": [
    "plt.figure(figsize=(10,4))\n",
    "plt.subplot(1,2,1)\n",
    "sb.scatterplot(x=\"alcohol\", y=\"quality\", hue=\"type\", data=wine, alpha=0.5)\n",
    "plt.title(\"Alcohol vs. Quality\")\n",
    "plt.subplot(1,2,2)\n",
    "sb.scatterplot(x=\"residual sugar\", y=\"quality\", hue=\"type\", data=wine, alpha=0.5)\n",
    "plt.title(\"Residual Sugar vs. Quality\")\n",
    "plt.tight_layout()\n",
    "plt.show()"
   ]
  },
  {
   "cell_type": "code",
   "execution_count": null,
   "id": "cc855b98",
   "metadata": {},
   "outputs": [],
   "source": [
    "print(\"Korrelationskoefficient (alcohol vs. quality):\")\n",
    "print(wine[[\"alcohol\", \"quality\"]].corr())\n",
    "print(\"Korrelationskoefficient (residual sugar vs. quality):\")\n",
    "print(wine[[\"residual sugar\", \"quality\"]].corr())"
   ]
  },
  {
   "cell_type": "code",
   "execution_count": null,
   "id": "1cf0ccaf",
   "metadata": {},
   "outputs": [],
   "source": [
    "#Binning wines in groups of 5 and 10 bins.\n",
    "\n",
    "def find_highest_density(df, bins, label):\n",
    "    #Bin the pH column\n",
    "    binned = pd.cut(df[\"pH\"], bins=bins)\n",
    "    \n",
    "    counts = binned.value_counts().sort_index()\n",
    "    \n",
    "    #Print the densest bin.\n",
    "    max_bin = counts.idxmax()\n",
    "    print(f\"{label}: Number of bins = {bins} Highest density in pH range of {max_bin} with {counts.max()} samples\")\n",
    "    return counts\n",
    "\n",
    "print(\"5 bins\")\n",
    "find_highest_density(wine, bins=5, label=\"All wines\")\n",
    "find_highest_density(wine[wine[\"type_encoded\"]==0], bins=5, label=\"Red wines\")\n",
    "find_highest_density(wine[wine[\"type_encoded\"]==1], bins=5, label=\"White wines\")\n",
    "\n",
    "print(\"\\n10 bins\")\n",
    "find_highest_density(wine, bins=10, label=\"All wines\")\n",
    "find_highest_density(wine[wine[\"type_encoded\"]==0], bins=10, label=\"Red wines\")\n",
    "find_highest_density(wine[wine[\"type_encoded\"]==1], bins=10, label=\"White wines\")"
   ]
  },
  {
   "cell_type": "code",
   "execution_count": null,
   "id": "486dd6b4",
   "metadata": {},
   "outputs": [],
   "source": [
    "#Visual graph for pH density on red, white and all wines combined.\n",
    "plt.figure(figsize=(12,6))\n",
    "\n",
    "#Change bins=x the higer x is the more detailed the graph gets.\n",
    "plt.hist(wine[wine[\"type_encoded\"]==0][\"pH\"], bins=20, alpha=0.5, label=\"Red wine\", edgecolor=\"black\", color=\"red\")\n",
    "plt.hist(wine[wine[\"type_encoded\"]==1][\"pH\"], bins=20, alpha=0.5, label=\"White wine\", edgecolor=\"black\", color=\"orange\")\n",
    "plt.hist(wine[\"pH\"], bins=20, alpha=0.5, label=\"All wines\", edgecolor=\"black\")\n",
    "\n",
    "plt.xlabel(\"pH\")\n",
    "plt.ylabel(\"Count\")\n",
    "plt.title(\"pH Distribution of Red, White, and Combined Wine\")\n",
    "plt.legend()\n",
    "plt.show()"
   ]
  },
  {
   "cell_type": "code",
   "execution_count": null,
   "id": "5bc7677c",
   "metadata": {},
   "outputs": [],
   "source": [
    "#Individual graphs for red and white wines.\n",
    "fig, axes = plt.subplots(1, 2, figsize=(12,5), sharey=True)\n",
    "\n",
    "axes[0].hist(wine[wine[\"type_encoded\"]==0][\"pH\"], bins=20, color=\"red\", edgecolor=\"black\")\n",
    "axes[0].set_title(\"Red Wine pH Distribution\")\n",
    "axes[0].set_xlabel(\"pH\")\n",
    "axes[0].set_ylabel(\"Count\")\n",
    "\n",
    "axes[1].hist(wine[wine[\"type_encoded\"]==1][\"pH\"], bins=20, color=\"orange\", edgecolor=\"black\")\n",
    "axes[1].set_title(\"White Wine pH Distribution\")\n",
    "axes[1].set_xlabel(\"pH\")\n",
    "\n",
    "plt.suptitle(\"Individual Histograms by Wine Type\", fontsize=14)\n",
    "plt.show()"
   ]
  },
  {
   "cell_type": "code",
   "execution_count": null,
   "id": "5c80937a",
   "metadata": {},
   "outputs": [],
   "source": [
    "#Define bins and labels\n",
    "bins = [2.5, 3.1, 3.4, 4.5]  \n",
    "labels = [\"Low\", \"Medium\", \"High\"]\n",
    "\n",
    "wine[\"pH_category\"] = pd.cut(wine[\"pH\"], bins=bins, labels=labels)\n",
    "\n",
    "category_counts = wine.groupby([\"pH_category\", \"type_encoded\"]).size().unstack(fill_value=0)\n",
    "category_counts.columns = [\"Red wine\", \"White wine\"]\n",
    "\n",
    "range_labels = [\n",
    "    f\"Low ({bins[0]}–{bins[1]})\",\n",
    "    f\"Medium ({bins[1]}–{bins[2]})\",\n",
    "    f\"High ({bins[2]}–{bins[3]})\"\n",
    "]\n",
    "\n",
    "ax = category_counts.plot(\n",
    "    kind=\"bar\", \n",
    "    stacked=True, \n",
    "    color=[\"red\", \"orange\"], \n",
    "    edgecolor=\"black\",\n",
    "    figsize=(9,6)\n",
    ")\n",
    "\n",
    "ax.set_xlabel(\"pH Category\")\n",
    "ax.set_ylabel(\"Count\")\n",
    "ax.set_title(\"Wine Distribution by pH Category (Red vs White Wine)\")\n",
    "ax.set_xticklabels(range_labels, rotation=0)\n",
    "plt.legend()\n",
    "plt.show()"
   ]
  },
  {
   "cell_type": "code",
   "execution_count": null,
   "id": "cdd58d58-1f1e-4189-9d16-f2b66edd7d87",
   "metadata": {},
   "outputs": [],
   "source": [
    "# Scatterplot: x = index (bare rækkefølgen af vin), y = pH\n",
    "# plt.figure(figsize=(10,6))\n",
    "# plt.scatter(wine.index, wine[\"pH\"], alpha=0.5, c=wine[\"type\"].map({\"red\":\"red\",\"white\":\"orange\"}))\n",
    "# plt.xlabel(\"Vin index\")\n",
    "# plt.ylabel(\"pH\")\n",
    "# plt.title(\"Scatterplot af pH værdier for rød og hvid vin\")\n",
    "# plt.show()\n"
   ]
  },
  {
   "cell_type": "code",
   "execution_count": null,
   "id": "a3e529ce-a7de-4f8d-8e36-d7bfab4b2bf8",
   "metadata": {},
   "outputs": [],
   "source": [
    "# Scatterplot: x = x = fixed acidity, y = pH\n",
    "# plt.figure(figsize=(10,6))\n",
    "# plt.scatter(wine[\"fixed acidity\"], wine[\"pH\"], alpha=0.5, c=wine[\"type\"].map({\"red\":\"red\",\"white\":\"orange\"}))\n",
    "# plt.xlabel(\"Fixed acidity\")\n",
    "# plt.ylabel(\"pH\")\n",
    "# plt.title(\"Scatterplot af pH værdier for rød og hvid vin, i forhold til fixed acidity\")\n",
    "# plt.show()"
   ]
  },
  {
   "cell_type": "code",
   "execution_count": null,
   "id": "9a4f2dfa-3333-45d0-a2f2-6b925d3ffd01",
   "metadata": {},
   "outputs": [],
   "source": [
    "# Scatterplot: x = volatile acidity, y = pH\n",
    "# plt.figure(figsize=(10,6))\n",
    "# plt.scatter(wine[\"volatile acidity\"], wine[\"pH\"], alpha=0.5, c=wine[\"type\"].map({\"red\":\"red\",\"white\":\"orange\"}))\n",
    "# plt.xlabel(\"Volatile acidity\")\n",
    "# plt.ylabel(\"pH\")\n",
    "# plt.title(\"Scatterplot af pH værdier for rød og hvid vin, i forhold til volatile acidity\")\n",
    "# plt.show()"
   ]
  },
  {
   "cell_type": "code",
   "execution_count": null,
   "id": "51a9dc52-3abe-45d0-af74-d0efbf9b0896",
   "metadata": {},
   "outputs": [],
   "source": [
    "# Scatterplot: x = volatile acidity, y = fixed acidity\n",
    "# plt.figure(figsize=(10,6))\n",
    "# plt.scatter(wine[\"volatile acidity\"], wine[\"fixed acidity\"], alpha=0.5, c=wine[\"type\"].map({\"red\":\"red\",\"white\":\"orange\"}))\n",
    "# plt.xlabel(\"Volatile acidity\")\n",
    "# plt.ylabel(\"Fixed acidity\")\n",
    "# plt.title(\"Scatterplot af volatile acidity værdier for rød og hvid vin, i forhold til fixed acidity\")\n",
    "# plt.show()"
   ]
  },
  {
   "cell_type": "code",
   "execution_count": null,
   "id": "e61d9cad-6e22-416e-ac82-7fd363f621aa",
   "metadata": {},
   "outputs": [],
   "source": [
    "# Scatterplot: x = alcohol, y = quality\n",
    "# plt.figure(figsize=(10,10))\n",
    "# plt.scatter(wine[\"alcohol\"], wine[\"quality\"], alpha=0.5, c=wine[\"type\"].map({\"red\":\"red\",\"white\":\"orange\"}))\n",
    "# plt.xlabel(\"Alcohol\")\n",
    "# plt.ylabel(\"Quality\")\n",
    "# plt.title(\"Scatterplot af alcohol værdier for rød og hvid vin, i forhold til quality\")\n",
    "# plt.show()"
   ]
  },
  {
   "cell_type": "code",
   "execution_count": null,
   "id": "4c95cf07-a426-48a5-9079-f77916bbe34d",
   "metadata": {},
   "outputs": [],
   "source": [
    "#KOMMER BARE FRA CHAT\n",
    "# plt.figure(figsize=(8,6))\n",
    "# wine.boxplot(column=\"pH\", by=\"type\", grid=False, patch_artist=True,\n",
    "#              boxprops=dict(facecolor=\"lightblue\"),\n",
    "#              medianprops=dict(color=\"red\"))\n",
    "# plt.title(\"Boxplot af pH værdier for rød vs. hvid vin\")\n",
    "# plt.suptitle(\"\")  # fjerner standardtitel\n",
    "# plt.xlabel(\"Vin type\")\n",
    "# plt.ylabel(\"pH\")\n",
    "# plt.show()"
   ]
  },
  {
   "cell_type": "code",
   "execution_count": null,
   "id": "9283734b",
   "metadata": {},
   "outputs": [],
   "source": [
    "# plt.hist(wine[\"pH\"], bins=5, edgecolor=\"black\")\n",
    "# plt.xlabel(\"pH\")\n",
    "# plt.ylabel(\"Frekvens\")\n",
    "# plt.title(\"Histogram af pH-værdier\")\n",
    "# plt.show()"
   ]
  }
 ],
 "metadata": {
  "kernelspec": {
   "display_name": "base",
   "language": "python",
   "name": "python3"
  },
  "language_info": {
   "codemirror_mode": {
    "name": "ipython",
    "version": 3
   },
   "file_extension": ".py",
   "mimetype": "text/x-python",
   "name": "python",
   "nbconvert_exporter": "python",
   "pygments_lexer": "ipython3",
   "version": "3.13.5"
  }
 },
 "nbformat": 4,
 "nbformat_minor": 5
}
