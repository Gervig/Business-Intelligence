{
 "cells": [
  {
   "cell_type": "code",
   "execution_count": null,
   "id": "6920ac77",
   "metadata": {},
   "outputs": [],
   "source": [
    "from sklearn.preprocessing import QuantileTransformer\n",
    "\n",
    "# Create the transformer\n",
    "qtrans = QuantileTransformer(output_distribution='normal', random_state=0)\n",
    "\n",
    "# Apply it to the 'alcohol' column\n",
    "wine['alcohol_q_trans_normal'] = qtrans.fit_transform(wine[['alcohol']])\n",
    "#Change 'alcohol' to different collum in dataset to use that collum for normalization\n",
    "\n",
    "# Check the result\n",
    "print('Mean:', wine['alcohol_q_trans_normal'].mean())\n",
    "print('Standard Deviation:', wine['alcohol_q_trans_normal'].std())"
   ]
  },
  {
   "cell_type": "code",
   "execution_count": null,
   "id": "299f91e5",
   "metadata": {},
   "outputs": [],
   "source": [
    "plt.hist(\n",
    "    wine['alcohol_q_trans_normal'], \n",
    "    bins=50, \n",
    "    color='#ee4c2c',        # Fill color of bars\n",
    "    edgecolor='black'        # Outline color of bars\n",
    ")\n",
    "\n",
    "plt.xlabel('Alcohol (Normalized)')\n",
    "plt.ylabel('Frequency')\n",
    "plt.title('Histogram of Normalized Alcohol')\n",
    "\n",
    "plt.grid(True, linestyle='--', alpha=0.7)  # Add grid with dashed lines and semi-transparent\n",
    "\n",
    "plt.show()"
   ]
  }
 ],
 "metadata": {
  "kernelspec": {
   "display_name": "base",
   "language": "python",
   "name": "python3"
  },
  "language_info": {
   "codemirror_mode": {
    "name": "ipython",
    "version": 3
   },
   "file_extension": ".py",
   "mimetype": "text/x-python",
   "name": "python",
   "nbconvert_exporter": "python",
   "pygments_lexer": "ipython3",
   "version": "3.13.5"
  }
 },
 "nbformat": 4,
 "nbformat_minor": 5
}
