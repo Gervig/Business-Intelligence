{
 "cells": [
  {
   "cell_type": "code",
   "execution_count": 4,
   "id": "cd42b49f-772d-4da7-ae40-e26a9bcf3170",
   "metadata": {},
   "outputs": [],
   "source": [
    "import pandas as pd\n",
    "import matplotlib.pyplot as plt\n",
    "import seaborn as sb\n",
    "import numpy as np"
   ]
  },
  {
   "cell_type": "code",
   "execution_count": null,
   "id": "3ad4b982",
   "metadata": {},
   "outputs": [],
   "source": [
    "from sklearn.preprocessing import MinMaxScaler\n",
    "# Scatter matrix\n",
    "from pandas.plotting import scatter_matrix"
   ]
  },
  {
   "cell_type": "markdown",
   "id": "5b9299cc",
   "metadata": {},
   "source": [
    "# MP2"
   ]
  },
  {
   "cell_type": "markdown",
   "id": "6431848c-6053-4295-8d79-70e358c6e0e0",
   "metadata": {},
   "source": [
    "## Ingesting the data"
   ]
  },
  {
   "cell_type": "code",
   "execution_count": 5,
   "id": "106dd36a-78a9-4cc9-a022-26fe11e8d706",
   "metadata": {},
   "outputs": [],
   "source": [
    "#The data is placed in an folder so we load the data through the folder with \\\n",
    "data1 = pd.read_excel(\"wine-data\\winequality-red.xlsx\", header=1)\n",
    "data2 = pd.read_excel(\"wine-data\\winequality-white.xlsx\", header=1)"
   ]
  },
  {
   "cell_type": "markdown",
   "id": "71f6a7f6-7270-411d-b950-062a8958f6a0",
   "metadata": {},
   "source": [
    "### Aggregating the data together into one data file - but first we add a column named type"
   ]
  },
  {
   "cell_type": "code",
   "execution_count": 6,
   "id": "9d7db624-43ba-4277-a9e2-5f94174ad239",
   "metadata": {},
   "outputs": [],
   "source": [
    "#Adding the type\n",
    "data1[\"type\"] = \"red\"\n",
    "data2[\"type\"] = \"white\"\n",
    "\n",
    "# Merge/concatenate - the ignore_index resets the index numbers\n",
    "wine = pd.concat([data1, data2], ignore_index=True)"
   ]
  },
  {
   "cell_type": "code",
   "execution_count": null,
   "id": "35d18f2a-c646-43f8-8f37-8e6af63a7af3",
   "metadata": {},
   "outputs": [],
   "source": [
    "#Shows a random sample, to show that the data is mixed\n",
    "wine.sample(10)"
   ]
  },
  {
   "cell_type": "markdown",
   "id": "ee35141f-517c-4520-b6dd-a6808e2fa9b2",
   "metadata": {},
   "source": [
    "## Cleaning the data"
   ]
  },
  {
   "cell_type": "code",
   "execution_count": null,
   "id": "3f75fb77-73c9-4685-8ff9-562327ac0b20",
   "metadata": {},
   "outputs": [],
   "source": [
    "#We use shape to show the size of the dataset, through the number of observations and how many variables there are\n",
    "wine.shape"
   ]
  },
  {
   "cell_type": "code",
   "execution_count": null,
   "id": "d67adab6-41e7-4130-b4ae-11c2f48987de",
   "metadata": {},
   "outputs": [],
   "source": [
    "#Finding missing values (null) - It shows how many of the different variables has null values\n",
    "print(wine.isnull().sum())"
   ]
  },
  {
   "cell_type": "markdown",
   "id": "586dacd4-ecfb-41b9-8b3b-04f1ee29ef84",
   "metadata": {},
   "source": [
    "### Since there are no null values, we do not need to drop them"
   ]
  },
  {
   "cell_type": "code",
   "execution_count": null,
   "id": "faf44f76-e523-4ac4-bf0e-234348e75d43",
   "metadata": {},
   "outputs": [],
   "source": [
    "#Shows how many duplicated values there are. It compares all of the columns.\n",
    "wine.duplicated().sum()"
   ]
  },
  {
   "cell_type": "markdown",
   "id": "6acea351-a1d5-41b6-bdc4-1b5536a54cec",
   "metadata": {},
   "source": [
    "### We therefore have 1177 duplicates"
   ]
  },
  {
   "cell_type": "code",
   "execution_count": null,
   "id": "e02053d3-151a-47a5-b6c3-590cf998df91",
   "metadata": {},
   "outputs": [],
   "source": [
    "#This shows the first five duplicates.\n",
    "duplicates = wine[wine.duplicated()]\n",
    "print(duplicates.head())"
   ]
  },
  {
   "cell_type": "code",
   "execution_count": null,
   "id": "601b6e56-60c5-464e-bc35-8edb9b848660",
   "metadata": {},
   "outputs": [],
   "source": [
    "#Dropping the 1177 duplicates and resetting the index\n",
    "wine.drop_duplicates(inplace=True, ignore_index=True)"
   ]
  },
  {
   "cell_type": "markdown",
   "id": "08cd488a-5377-498e-965b-65bdda55baee",
   "metadata": {},
   "source": [
    "### Checking for damaged values"
   ]
  },
  {
   "cell_type": "code",
   "execution_count": null,
   "id": "f9697f08-2d54-4c27-a31c-6f5b45cc5460",
   "metadata": {},
   "outputs": [],
   "source": [
    "#Negative values - \n",
    "(wine.drop(columns=\"type\") < 0).sum()"
   ]
  },
  {
   "cell_type": "code",
   "execution_count": null,
   "id": "8a6225b8-f022-41b2-86c6-819f634007b2",
   "metadata": {},
   "outputs": [],
   "source": [
    "#pH value 7 or bigger for wine, as wine is acid and 7 is neutral - \n",
    "wine[(wine['pH']>7)].sum()"
   ]
  },
  {
   "cell_type": "raw",
   "id": "b56948de-a53a-4401-93d0-a88732521f44",
   "metadata": {},
   "source": [
    "There at no damaged values, and therefore none to remove"
   ]
  },
  {
   "cell_type": "markdown",
   "id": "0c3824cf-2c2a-4139-9a3d-6b43e28d0d7f",
   "metadata": {},
   "source": [
    "## The outliers for the \"accepted\" wine values"
   ]
  },
  {
   "cell_type": "code",
   "execution_count": null,
   "id": "14f4aa72-d98b-4866-956a-eeccebaa9d81",
   "metadata": {},
   "outputs": [],
   "source": [
    "def check_min_max(list, expected_range):\n",
    "    report = []\n",
    "    for col, (min_val, max_val) in expected_range.items():\n",
    "        count = ((list[col] < min_val) | (list[col] > max_val)).sum()\n",
    "        report.append({\"column\": col, \"outliers\": count})\n",
    "\n",
    "    report_df = pd.DataFrame(report)\n",
    "    print(report_df)"
   ]
  },
  {
   "cell_type": "code",
   "execution_count": null,
   "id": "e7b2e906-a6b7-43d0-8f59-a1ae861c04b6",
   "metadata": {},
   "outputs": [],
   "source": [
    "#Our expected ranges for red wine\n",
    "expected_ranges_red = {\n",
    "    \"fixed acidity\": (4.6, 15.9),\n",
    "    \"volatile acidity\": (0.12, 1.58),\n",
    "    \"citric acid\": (0.0, 1.0),\n",
    "    \"residual sugar\": (0.9, 15.5),\n",
    "    \"chlorides\": (0.012, 0.611),\n",
    "    \"free sulfur dioxide\": (1, 72),\n",
    "    \"total sulfur dioxide\": (6, 289),\n",
    "    \"density\": (0.99007, 1.00369),\n",
    "    \"pH\": (2.74, 4.01),\n",
    "    \"sulphates\": (0.33, 2.0),\n",
    "    \"alcohol\": (8.4, 14.9),\n",
    "    \"quality\": (3, 8)\n",
    "}\n",
    "red_wine = wine[wine[\"type\"] == \"red\"]\n",
    "\n",
    "check_min_max(red_wine, expected_ranges_red)"
   ]
  },
  {
   "cell_type": "code",
   "execution_count": null,
   "id": "882f3fd7-9559-4bcb-85c8-4477d83bdd45",
   "metadata": {},
   "outputs": [],
   "source": [
    "#Our expected ranges for white wine\n",
    "expected_ranges_white = {\n",
    "    \"fixed acidity\": (3.8, 14.2),\n",
    "    \"volatile acidity\": (0.08, 1.10),\n",
    "    \"citric acid\": (0.0, 1.66),\n",
    "    \"residual sugar\": (0.6, 65.8),\n",
    "    \"chlorides\": (0.009, 0.346),\n",
    "    \"free sulfur dioxide\": (2, 289),\n",
    "    \"total sulfur dioxide\": (9, 440),\n",
    "    \"density\": (0.98711, 1.03898),\n",
    "    \"pH\": (2.72, 3.82),\n",
    "    \"sulphates\": (0.22, 1.08),\n",
    "    \"alcohol\": (8.0, 14.2),\n",
    "    \"quality\": (3, 9)\n",
    "}\n",
    "\n",
    "#Right now we are only checking for the values of white wine, so we need to filter on the type of wine\n",
    "white_wine = wine[wine[\"type\"] == \"white\"]\n",
    "\n",
    "check_min_max(white_wine, expected_ranges_white)"
   ]
  },
  {
   "cell_type": "code",
   "execution_count": null,
   "id": "b55ff05b-1987-4038-a333-d40aea34de7f",
   "metadata": {},
   "outputs": [],
   "source": [
    "#Shows the count, mean std fopr the collective winelist\n",
    "wine.describe()"
   ]
  },
  {
   "cell_type": "code",
   "execution_count": null,
   "id": "96c30d6c-bc1a-4e2a-8d55-f2e95dca1a62",
   "metadata": {},
   "outputs": [],
   "source": [
    "#Description of red wine - the list is made previously: red_wine = wine[wine[\"type\"] == \"red\"]\n",
    "red_wine.describe()"
   ]
  },
  {
   "cell_type": "code",
   "execution_count": null,
   "id": "bebe6264-6f5c-4f6f-8154-64364de6071e",
   "metadata": {},
   "outputs": [],
   "source": [
    "#Description of white wine - the list is made previously: white_wine = wine[wine[\"type\"] == \"white\"]\n",
    "white_wine.describe()"
   ]
  },
  {
   "cell_type": "code",
   "execution_count": null,
   "id": "b6f20138-c829-4ae6-8612-5ceed8a0b605",
   "metadata": {},
   "outputs": [],
   "source": [
    "#The shape of red wine after cleaning\n",
    "red_wine.shape"
   ]
  },
  {
   "cell_type": "code",
   "execution_count": null,
   "id": "a3c25b9d-9041-4000-838e-002237177d8b",
   "metadata": {},
   "outputs": [],
   "source": [
    "#The shape of white wine after cleaning\n",
    "white_wine.shape"
   ]
  },
  {
   "cell_type": "markdown",
   "id": "62753450",
   "metadata": {},
   "source": [
    "## Endcoding"
   ]
  },
  {
   "cell_type": "code",
   "execution_count": null,
   "id": "dd24503d",
   "metadata": {},
   "outputs": [],
   "source": [
    "#Pre Label encoding - Categorical Encoding\n",
    "wine.dtypes\n",
    "\n",
    "wine[\"type\"] = wine[\"type\"].astype(\"category\")\n",
    "\n",
    "wine.dtypes\n",
    "\n",
    "cat_data = wine.select_dtypes('category').columns\n",
    "\n",
    "cat_data\n",
    "\n",
    "# print these columns only\n",
    "wine[cat_data].sample(10)\n",
    "\n",
    "categorical_data = wine[cat_data]\n",
    "categorical_data"
   ]
  },
  {
   "cell_type": "code",
   "execution_count": null,
   "id": "aa91fa4c",
   "metadata": {},
   "outputs": [],
   "source": [
    "# Label Endcoding which is converting the text values into numerical values\n",
    "\n",
    "cats = categorical_data[\"type\"].unique()\n",
    "cats\n",
    "\n",
    "categorical_data = wine[[\"type\"]].copy()\n",
    "categorical_data[\"type_encoded\"] = categorical_data[\"type\"].cat.codes\n",
    "categorical_data.sample(10)"
   ]
  },
  {
   "cell_type": "code",
   "execution_count": null,
   "id": "08e92a97",
   "metadata": {},
   "outputs": [],
   "source": [
    "# adding the encoded column to the original dataframe and dropping the text column\n",
    "# White wine = 1 and red wine = 0\n",
    "wine[\"type_encoded\"] = wine[\"type\"].cat.codes\n",
    "wine_transformed = wine.drop([\"type\"], axis=1)\n",
    "\n",
    "print(wine_transformed)"
   ]
  },
  {
   "cell_type": "markdown",
   "id": "efd46520",
   "metadata": {},
   "source": [
    "### Normalization"
   ]
  },
  {
   "cell_type": "code",
   "execution_count": null,
   "id": "c210e436",
   "metadata": {},
   "outputs": [],
   "source": [
    "# Sørg for, at kolonnen \"type_encoded\" er til stede i red_wine og white_wine\n",
    "red_wine[\"type_encoded\"] = wine[wine[\"type\"] == \"red\"][\"type_encoded\"]\n",
    "white_wine[\"type_encoded\"] = wine[wine[\"type\"] == \"white\"][\"type_encoded\"]\n",
    "\n",
    "# Fjern kolonnen \"type\" fra red_wine og white_wine\n",
    "red_wine_transformed = red_wine.drop(columns=[\"type\"]).copy()\n",
    "white_wine_transformed = white_wine.drop(columns=[\"type\"]).copy()\n",
    "\n",
    "# normalization - Scaling the data to a range of 0 to 1\n",
    "scaler = MinMaxScaler()\n",
    "\n",
    "# Fit og transformér hele datasættet\n",
    "all_wine_norm = scaler.fit_transform(wine_transformed)\n",
    "\n",
    "# Brug transform() for at genbruge skalaen på red_wine og white_wine\n",
    "red_wine_norm = scaler.transform(red_wine_transformed)\n",
    "white_wine_norm = scaler.transform(white_wine_transformed)\n",
    "\n",
    "# Konverter tilbage til DataFrame for at bevare kolonnenavne\n",
    "all_wine_norm = pd.DataFrame(all_wine_norm, columns=wine_transformed.columns)\n",
    "red_wine_norm = pd.DataFrame(red_wine_norm, columns=red_wine_transformed.columns)\n",
    "white_wine_norm = pd.DataFrame(white_wine_norm, columns=white_wine_transformed.columns)\n",
    "\n",
    "# Udskriv resultater\n",
    "print(all_wine_norm.head())\n",
    "print(red_wine_norm.head())\n",
    "print(white_wine_norm.head())\n"
   ]
  },
  {
   "cell_type": "code",
   "execution_count": null,
   "id": "88365141",
   "metadata": {},
   "outputs": [],
   "source": [
    "# normal distrubted histogram -> bellcurve\n",
    "\n",
    "# Histogram af kvalitet for rød, hvid og alle vine\n",
    "plt.figure(figsize=(12, 6))\n",
    "\n",
    "# Histogram for rødvin\n",
    "plt.hist(wine[wine[\"type\"] == \"red\"][\"quality\"], bins=10, alpha=0.5, label=\"Red wine\", color=\"red\", edgecolor=\"black\")\n",
    "\n",
    "# Histogram for hvidvin\n",
    "plt.hist(wine[wine[\"type\"] == \"white\"][\"quality\"], bins=10, alpha=0.5, label=\"White wine\", color=\"orange\", edgecolor=\"black\")\n",
    "\n",
    "# Histogram for alle vine\n",
    "plt.hist(wine[\"quality\"], bins=10, alpha=0.5, label=\"All wines\", color=\"blue\", edgecolor=\"black\")\n",
    "\n",
    "# Tilføj labels og titel\n",
    "plt.xlabel(\"Quality\")\n",
    "plt.ylabel(\"Count\")\n",
    "plt.title(\"Distribution of Wine Quality (Red, White, and All Wines)\")\n",
    "plt.legend()\n",
    "plt.show()"
   ]
  },
  {
   "cell_type": "markdown",
   "id": "48df32b0",
   "metadata": {},
   "source": [
    "## Exploration"
   ]
  },
  {
   "cell_type": "markdown",
   "id": "099c9fb3",
   "metadata": {},
   "source": [
    "### Correlation"
   ]
  },
  {
   "cell_type": "code",
   "execution_count": null,
   "id": "b5326c50",
   "metadata": {},
   "outputs": [],
   "source": [
    "# Selects the data that are only numbers\n",
    "num_data = wine.select_dtypes(include=[\"number\"]).columns.tolist()\n",
    "num_data"
   ]
  },
  {
   "cell_type": "code",
   "execution_count": null,
   "id": "4793ae38",
   "metadata": {},
   "outputs": [],
   "source": [
    "# Shows a scatter plot matrix\n",
    "scatter_matrix(wine[num_data], figsize=(30,26))"
   ]
  },
  {
   "cell_type": "code",
   "execution_count": null,
   "id": "9eabbd66",
   "metadata": {},
   "outputs": [],
   "source": [
    "# Calculates the correlation values\n",
    "post_norm_corr_all = all_wine_norm.corr(method='pearson', numeric_only=True)\n",
    "# Prints the correlation coeficients in a table for all the values\n",
    "post_norm_corr_all"
   ]
  },
  {
   "cell_type": "code",
   "execution_count": null,
   "id": "05e22413",
   "metadata": {},
   "outputs": [],
   "source": [
    "#heatmap with normalized data\n",
    "# Heatmap\n",
    "plt.figure(figsize=(12, 10))\n",
    "sb.heatmap(post_norm_corr_all, annot=True, cmap='coolwarm')\n",
    "plt.title(\"All wines - post normaliztion\", fontsize=14)\n",
    "plt.show()"
   ]
  },
  {
   "cell_type": "markdown",
   "id": "1a62d0c8",
   "metadata": {},
   "source": [
    "## Correlations for all wines seems to low everywhere,so it warrents that we check red and white for them selves"
   ]
  },
  {
   "cell_type": "code",
   "execution_count": null,
   "id": "2144e2c7",
   "metadata": {},
   "outputs": [],
   "source": [
    "# Calculates the correlation values\n",
    "post_norm_corr_red = red_wine_norm.corr(method='pearson', numeric_only=True)\n",
    "# Prints the correlation coeficients in a table for all the values\n",
    "post_norm_corr_red"
   ]
  },
  {
   "cell_type": "code",
   "execution_count": null,
   "id": "759dcd3a",
   "metadata": {},
   "outputs": [],
   "source": [
    "# Calculates the correlation values\n",
    "post_norm_corr_white = white_wine_norm.corr(method='pearson', numeric_only=True)\n",
    "# Prints the correlation coeficients in a table for all the values\n",
    "post_norm_corr_white"
   ]
  },
  {
   "cell_type": "code",
   "execution_count": null,
   "id": "b393859c",
   "metadata": {},
   "outputs": [],
   "source": [
    "# Heatmap\n",
    "plt.figure(figsize=(12, 10))\n",
    "sb.heatmap(post_norm_corr_white, annot=True, cmap='coolwarm')\n",
    "plt.title(\"White wine - post normaliztion\", fontsize=14)\n",
    "\n",
    "plt.show()"
   ]
  },
  {
   "cell_type": "markdown",
   "id": "ff5a4e16",
   "metadata": {},
   "source": [
    "## The correlations for white wine:\n",
    "it is high for:  \n",
    "    1: density and residual sugar \n",
    "    2: density and alcohol"
   ]
  },
  {
   "cell_type": "code",
   "execution_count": null,
   "id": "08bf7dae",
   "metadata": {},
   "outputs": [],
   "source": [
    "# Heatmap\n",
    "plt.figure(figsize=(12, 10))\n",
    "sb.heatmap(post_norm_corr_red, annot=True, cmap='coolwarm')\n",
    "plt.title(\"Red wines - post normaliztion\", fontsize=14)\n",
    "\n",
    "plt.show()"
   ]
  },
  {
   "cell_type": "markdown",
   "id": "458ceb88",
   "metadata": {},
   "source": [
    "## The correlations for red wine:\n",
    "it is high for:\n",
    "1. fixed acidity and Ph\n",
    "2. fixed acidity and density\n",
    "\n",
    "low for :\n",
    "1. pH and citric acid\n",
    "2. alcohol and density\n"
   ]
  },
  {
   "cell_type": "markdown",
   "id": "8c1cc15b",
   "metadata": {},
   "source": [
    "## Warrents futher investigation for correlations\n",
    "\n",
    "1. we want to see why residual sugar and alcohol compared to density doesn't correlate the same for red and white wine\n",
    "2. we want to see why acids doesn't have a higher correlations with pH"
   ]
  },
  {
   "cell_type": "code",
   "execution_count": null,
   "id": "0df5736f",
   "metadata": {},
   "outputs": [],
   "source": [
    "# Residual sugar histograms for red and white wines\n",
    "fig, axes = plt.subplots(1, 2, figsize=(12,5), sharey=True, sharex=True)\n",
    "\n",
    "axes[0].hist(\n",
    "    wine[wine[\"type_encoded\"]==0][\"residual sugar\"],\n",
    "    bins=30, color=\"red\", edgecolor=\"black\"\n",
    ")\n",
    "axes[0].set_title(\"Red Wine Residual Sugar\")\n",
    "axes[0].set_xlabel(\"Residual Sugar (g/dm³)\")\n",
    "axes[0].set_ylabel(\"Count\")\n",
    "\n",
    "axes[1].hist(\n",
    "    wine[wine[\"type_encoded\"]==1][\"residual sugar\"],\n",
    "    bins=30, color=\"orange\", edgecolor=\"black\"\n",
    ")\n",
    "axes[1].set_title(\"White Wine Residual Sugar\")\n",
    "axes[1].set_xlabel(\"Residual Sugar (g/dm³)\")\n",
    "\n",
    "plt.suptitle(\"Residual Sugar Distribution by Wine Type\", fontsize=14)\n",
    "plt.show()\n",
    "\n"
   ]
  },
  {
   "cell_type": "markdown",
   "id": "e705835d",
   "metadata": {},
   "source": [
    "## Findings\n",
    "\n",
    "We can see that there is a lot more residual sugar in white wines. Therefor it affects the density a lot more than in red wines because the amount of sugar is much larger, so it has a higher impact on the density. That is also why we also see a lower correlation between sugar and density in red wines."
   ]
  },
  {
   "cell_type": "code",
   "execution_count": null,
   "id": "3764db60",
   "metadata": {},
   "outputs": [],
   "source": [
    "from scipy.stats import norm\n",
    "\n",
    "# Select red wine alcohol column\n",
    "red_alcohol = red_wine_norm[\"alcohol\"]\n",
    "\n",
    "# Calculate mean and std for normal curve\n",
    "mu, sigma = red_alcohol.mean(), red_alcohol.std()\n",
    "\n",
    "# Plot histogram\n",
    "plt.figure(figsize=(8,5))\n",
    "count, bins, ignored = plt.hist(red_alcohol, bins=20, density=True,\n",
    "                                color=\"red\", edgecolor=\"black\", alpha=0.6)\n",
    "\n",
    "# Plot bell curve\n",
    "xmin, xmax = plt.xlim()\n",
    "x = np.linspace(xmin, xmax, 100)\n",
    "p = norm.pdf(x, mu, sigma)\n",
    "plt.plot(x, p, \"k\", linewidth=2, label=\"Normal distribution\")\n",
    "\n",
    "plt.title(\"Alcohol Distribution in Red Wine with Bell Curve\")\n",
    "plt.xlabel(\"Alcohol (%)\")\n",
    "plt.ylabel(\"Density\")\n",
    "plt.legend()\n",
    "plt.show()\n",
    "\n"
   ]
  },
  {
   "cell_type": "code",
   "execution_count": null,
   "id": "6d7c12d6",
   "metadata": {},
   "outputs": [],
   "source": [
    "# Select white wine alcohol column\n",
    "white_alcohol = white_wine_norm[\"alcohol\"]\n",
    "\n",
    "# Calculate mean and std for normal curve\n",
    "mu, sigma = white_alcohol.mean(), white_alcohol.std()\n",
    "\n",
    "# Plot histogram\n",
    "plt.figure(figsize=(8,5))\n",
    "count, bins, ignored = plt.hist(white_alcohol, bins=20, density=True,\n",
    "                                color=\"yellow\", edgecolor=\"black\", alpha=0.6)\n",
    "\n",
    "# Plot bell curve\n",
    "xmin, xmax = plt.xlim()\n",
    "x = np.linspace(xmin, xmax, 100)\n",
    "p = norm.pdf(x, mu, sigma)\n",
    "plt.plot(x, p, \"k\", linewidth=2, label=\"Normal distribution\")\n",
    "\n",
    "plt.title(\"Alcohol Distribution in White Wine with Bell Curve\")\n",
    "plt.xlabel(\"Alcohol (%)\")\n",
    "plt.ylabel(\"Density\")\n",
    "plt.legend()\n",
    "plt.show()\n"
   ]
  },
  {
   "cell_type": "markdown",
   "id": "ad3d1d0d-aca9-45d6-aad9-e94200787dd5",
   "metadata": {},
   "source": [
    "## Findings\n",
    "\n",
    "We know that alcohol have a correlation with density since alcohol is less dense than water, which is what most wines is primarily made of.\n",
    "\n",
    "The alcohol in red wine doesn't have a very good normal distribution so we expect that any correlation between alcohol and density for red wines will not be very high.\n",
    "\n",
    "We can see that white wine has a better normal distribution for their alcohol. Therefor we expect that white wine has a better correlation between alcohol and density since its data is more normalized."
   ]
  },
  {
   "cell_type": "code",
   "execution_count": null,
   "id": "15ddf9fd-612b-4663-aa2a-fa9e29490788",
   "metadata": {
    "scrolled": true
   },
   "outputs": [],
   "source": [
    "# Select white wine pH column\n",
    "white_ph = white_wine_norm[\"pH\"]\n",
    "\n",
    "# Calculate mean and std for normal curve\n",
    "mu, sigma = white_ph.mean(), white_ph.std()\n",
    "\n",
    "# Plot histogram\n",
    "plt.figure(figsize=(8,5))\n",
    "count, bins, ignored = plt.hist(white_ph, bins=20, density=True,\n",
    "                                color=\"yellow\", edgecolor=\"black\", alpha=0.6)\n",
    "\n",
    "# Plot bell curve\n",
    "xmin, xmax = plt.xlim()\n",
    "x = np.linspace(xmin, xmax, 100)\n",
    "p = norm.pdf(x, mu, sigma)\n",
    "plt.plot(x, p, \"k\", linewidth=2, label=\"Normal distribution\")\n",
    "\n",
    "plt.title(\"pH Distribution in White Wine with Bell Curve\")\n",
    "plt.xlabel(\"pH\")\n",
    "plt.ylabel(\"Quantity\")\n",
    "plt.legend()\n",
    "plt.show()"
   ]
  },
  {
   "cell_type": "code",
   "execution_count": null,
   "id": "d75dd929-0fe0-42c5-8e16-dfa592f1b2a6",
   "metadata": {},
   "outputs": [],
   "source": [
    "print(f\"Mode: {white_ph.mode()}\")\n",
    "print(f\"Mean: {white_ph.mean()}\")"
   ]
  },
  {
   "cell_type": "markdown",
   "id": "9c77b470-7f1e-4ba0-b347-93e839fb74a5",
   "metadata": {},
   "source": [
    "## Findings in relation to the bell curve for pH value in white wine\n",
    "There is a bit of positive scewing as is shown on the figure above, which means there are larger portion of the dataset with a lower pH value than the mean. The skewing can also be expolated by comparing the mean and the mode\n",
    "\n",
    "The mode for normalized pH value in white wine is 0.341, but the mean is 0.368, which means it is positively skewed."
   ]
  },
  {
   "cell_type": "code",
   "execution_count": null,
   "id": "b1291a31-dcd9-497a-b606-b79c9ba11fe6",
   "metadata": {
    "scrolled": true
   },
   "outputs": [],
   "source": [
    "# Select red wine ph column\n",
    "red_ph = red_wine_norm[\"pH\"]\n",
    "\n",
    "# Calculate mean and std for normal curve\n",
    "mu, sigma = red_ph.mean(), red_ph.std()\n",
    "\n",
    "# Plot histogram\n",
    "plt.figure(figsize=(8,5))\n",
    "count, bins, ignored = plt.hist(red_ph, bins=20, density=True,\n",
    "                                color=\"red\", edgecolor=\"black\", alpha=0.6)\n",
    "\n",
    "# Plot bell curve\n",
    "xmin, xmax = plt.xlim()\n",
    "x = np.linspace(xmin, xmax, 100)\n",
    "p = norm.pdf(x, mu, sigma)\n",
    "plt.plot(x, p, \"k\", linewidth=2, label=\"Normal distribution\")\n",
    "\n",
    "plt.title(\"pH Distribution in Red Wine with Bell Curve\")\n",
    "plt.xlabel(\"pH\")\n",
    "plt.ylabel(\"Quantity\")\n",
    "plt.legend()\n",
    "plt.show()"
   ]
  },
  {
   "cell_type": "code",
   "execution_count": null,
   "id": "7f80503f-76a5-4e69-9640-5a8522c2f840",
   "metadata": {},
   "outputs": [],
   "source": [
    "print(f\"Mode: {red_ph.mode()}\")\n",
    "print(f\"Mean: {red_ph.mean()}\")"
   ]
  },
  {
   "cell_type": "markdown",
   "id": "b0f291d5-c513-4ad5-91c4-d17db97c433f",
   "metadata": {},
   "source": [
    "## Findings in relation to the bell curve for pH value in red wine\n",
    "There is a very small amount of positive skewing as is shown on the figure above, as there are larger portion of the dataset with a little bit lower pH value than the mode.\n",
    "The mode for normalized pH value in red wine is 0.449, but the mean is 0.457, which means it is positively skewed."
   ]
  },
  {
   "cell_type": "code",
   "execution_count": null,
   "id": "3ba379df-3330-4108-821f-e413e8c5e800",
   "metadata": {},
   "outputs": [],
   "source": [
    "fig, axes = plt.subplots(1, 2, figsize=(12, 6), sharey=True, sharex=True)\n",
    "\n",
    "# Red wine\n",
    "axes[0].scatter(\n",
    "    red_wine[\"fixed acidity\"],\n",
    "    red_wine[\"pH\"],\n",
    "    alpha=0.5,\n",
    "    c=\"red\"\n",
    ")\n",
    "axes[0].set_title(\"Red wine\")\n",
    "axes[0].set_xlabel(\"Fixed acidity\")\n",
    "axes[0].set_ylabel(\"pH\")\n",
    "\n",
    "# White wine\n",
    "axes[1].scatter(\n",
    "    white_wine[\"fixed acidity\"],\n",
    "    white_wine[\"pH\"],\n",
    "    alpha=0.5,\n",
    "    c=\"orange\"\n",
    ")\n",
    "axes[1].set_title(\"White wine\")\n",
    "axes[1].set_xlabel(\"Fixed acidity\")\n",
    "\n",
    "fig.suptitle(\"Scatterplots of pH vs Fixed acidity by wine type\")\n",
    "plt.tight_layout()\n",
    "plt.show()"
   ]
  },
  {
   "cell_type": "markdown",
   "id": "5e0ce209-97a0-4d48-9958-bed0c77349fb",
   "metadata": {},
   "source": [
    "### Scatterplot for fixed acidity and pH value\n",
    "\n",
    "The range for fixed acidity in the two different types of wine is:\n",
    "    red: 4.6 - 15.9\n",
    "    white: 3.8 - 14.2\n",
    "Which means that there generally is more fixed acid in a red wine than white wine. This is despite that the pH value generally is lower for white wine.\n",
    "\n",
    "Typically the more acidity something has, the lower pH value it has, as a low pH value indicates something's acid level, but it also depends on other compenents in the wine. In our diagram above we can see that red wine typically have a higher level of fixed acidity, despite the level of pH value typically is lower. This is due to other components in the wine that interacts with the acid.\n",
    "\n",
    "We can also observe from the diagram that white wine is more clustered together than red wine.\n",
    "\n",
    "#### Red wine\n",
    "On the left side, we can see that as the amount of fixed acidity increases, the pH value decreases, which correlates with the heatmap information and general workings pH value."
   ]
  },
  {
   "cell_type": "code",
   "execution_count": null,
   "id": "52b25139-c86a-4465-b709-8e22ffca5048",
   "metadata": {},
   "outputs": [],
   "source": [
    "fig, axes = plt.subplots(1, 2, figsize=(12, 6), sharey=True, sharex=True)\n",
    "\n",
    "# Red wine\n",
    "axes[0].scatter(\n",
    "    red_wine[\"citric acid\"],\n",
    "    red_wine[\"pH\"],\n",
    "    alpha=0.5,\n",
    "    c=\"red\"\n",
    ")\n",
    "axes[0].set_title(\"Red wine\")\n",
    "axes[0].set_xlabel(\"Citric acid\")\n",
    "axes[0].set_ylabel(\"pH\")\n",
    "\n",
    "# White wine\n",
    "axes[1].scatter(\n",
    "    white_wine[\"citric acid\"],\n",
    "    white_wine[\"pH\"],\n",
    "    alpha=0.5,\n",
    "    c=\"orange\"\n",
    ")\n",
    "axes[1].set_title(\"White wine\")\n",
    "axes[1].set_xlabel(\"Citric acid\")\n",
    "\n",
    "fig.suptitle(\"Scatterplots of pH vs citric acid by wine type\")\n",
    "plt.tight_layout()\n",
    "plt.show()"
   ]
  },
  {
   "cell_type": "code",
   "execution_count": null,
   "id": "0758b925-153f-4bef-9835-511441e8d961",
   "metadata": {},
   "outputs": [],
   "source": [
    "fig, axes = plt.subplots(1, 2, figsize=(12, 6), sharey=True, sharex=True)\n",
    "\n",
    "# Red wine\n",
    "axes[0].scatter(\n",
    "    red_wine[\"volatile acidity\"],\n",
    "    red_wine[\"pH\"],\n",
    "    alpha=0.5,\n",
    "    c=\"red\"\n",
    ")\n",
    "axes[0].set_title(\"Red wine\")\n",
    "axes[0].set_xlabel(\"Volatile acidity\")\n",
    "axes[0].set_ylabel(\"pH\")\n",
    "\n",
    "# White wine\n",
    "axes[1].scatter(\n",
    "    white_wine[\"volatile acidity\"],\n",
    "    white_wine[\"pH\"],\n",
    "    alpha=0.5,\n",
    "    c=\"orange\"\n",
    ")\n",
    "axes[1].set_title(\"White wine\")\n",
    "axes[1].set_xlabel(\"Volatile acidity\")\n",
    "\n",
    "fig.suptitle(\"Scatterplots of pH vs volatile acidity by wine type\")\n",
    "plt.tight_layout()\n",
    "plt.show()"
   ]
  },
  {
   "cell_type": "code",
   "execution_count": null,
   "id": "da0e7635-c5ab-4c1e-ad8b-09bb084c1249",
   "metadata": {
    "scrolled": true
   },
   "outputs": [],
   "source": [
    "fig, axes = plt.subplots(1, 2, figsize=(12, 6), sharey=True, sharex=True)\n",
    "\n",
    "# Red wine\n",
    "axes[0].scatter(\n",
    "    red_wine[\"fixed acidity\"],\n",
    "    red_wine[\"citric acid\"],\n",
    "    alpha=0.5,\n",
    "    c=\"red\"\n",
    ")\n",
    "axes[0].set_title(\"Red wine\")\n",
    "axes[0].set_xlabel(\"fixed acidity\")\n",
    "axes[0].set_ylabel(\"citric acid\")\n",
    "\n",
    "# White wine\n",
    "axes[1].scatter(\n",
    "    white_wine[\"fixed acidity\"],\n",
    "    white_wine[\"citric acid\"],\n",
    "    alpha=0.5,\n",
    "    c=\"orange\"\n",
    ")\n",
    "axes[1].set_title(\"White wine\")\n",
    "axes[1].set_xlabel(\"fixed acidity\")\n",
    "\n",
    "fig.suptitle(\"Scatterplots of citric acid vs fixed acidity by wine type\")\n",
    "plt.tight_layout()\n",
    "plt.show()"
   ]
  },
  {
   "cell_type": "code",
   "execution_count": null,
   "id": "88e3b9d8-120f-477a-84aa-a38e1559bb4e",
   "metadata": {},
   "outputs": [],
   "source": [
    "## Findings in regards to acids and pH values in wine\n",
    "the pH value measures whether something is primarily acidic or basic. Which is why one could assume all acids influence the pH value. However in the heat maps we can see that the volatile acid has a very low correlation to the pH value, but fixed acid is much higher correlated with pH value than volatile, and the citric acid is in between. \n",
    "\n",
    "In reards to the two different types of wine, we can see a much lower correlation bvetween the acids and pH value for white wine than red wine. We have decided to investigate it further as it interests us. \n",
    "\n",
    "First it is important to distinguish between the different types of acid, as they are very different in abilities and quantities.\n",
    "\n",
    "### Fixed acid \n",
    "Fixed acid is one of the main determinants for the pH value in wine, as it releases the H+ ion, which is what the pH value measures in terms of acidity. Fixed acid is the part of the wine that gives it the tartness and mouthfeel of the wine. So in regards to the heat map it makes sense that it correlates, but as there are other components to wine than just fixed acid, it also makes sense that it is not a complete match, as there are other things that influence the pH value. \n",
    "\n",
    "### Volatile acid\n",
    "Volatile acid is acids that can vaporize and is the by-product of microbial metabolism. When the fermantation happens in wine, the citric acid acts with microbes and is turned into volatile acid. The amount that is generally created in wine is extremely low and therefor does not influence the pH value. If there is a high concentration of volatile acid, it can be an indicator of a spoiled wine, and can make it taste like vinegar, as it is one of the main components of vinegar. Due to the low amounts of volatile acid generally found in wine per liter, it does not release enough ions to affect the pH value, so the low correlation to the heatmap does make sense. \n",
    "\n",
    "### Citric acid\n",
    "Citric acid is a type of fixed acid. It is naturally occurent in many citrus fruits. It is used in wine making to give it a fruity tartness to the taste. As citric acid is a fixed acid, one can extrapolate that the pH value that is calculated from fixed acid includes the value from citric acid, and therefore it we can conclude that the correlation should be and is, bigger for fixed acid than citric acid, as it has \n",
    "a larger quantity in the wine. \n",
    "\n",
    "### Heatmap\n",
    "In regards to the three types of acids we can therefore conclude that the correlation between volatile acid and pH value, should be lower than both citric acid and fixed acidity, as the quantity of volatile acid is too low to have an impact on the pH value.\n",
    "Furthermore, the citric acid and pH value should have a lower correlation than the fixed acidity and pH value, as the citric acid is a part of the fixed acidity, but not all of it, and therefore there is a larger quantity of fixed acid to correlate with the pH value."
   ]
  },
  {
   "cell_type": "markdown",
   "id": "6450ba98-7ff2-4922-9c20-3454322750d5",
   "metadata": {},
   "source": [
    "# Plot diagrams"
   ]
  },
  {
   "cell_type": "code",
   "execution_count": null,
   "id": "14764a38",
   "metadata": {},
   "outputs": [],
   "source": [
    "# a. Boxplots for at sammenligne fordelingen af quality, alcohol og residual sugar\n",
    "plt.figure(figsize=(12,4))\n",
    "plt.subplot(1,3,1)\n",
    "sb.boxplot(x=\"type\", y=\"quality\", data=wine)\n",
    "plt.title(\"Quality by Wine Type\")\n",
    "plt.subplot(1,3,2)\n",
    "sb.boxplot(x=\"type\", y=\"alcohol\", data=wine)\n",
    "plt.title(\"Alcohol by Wine Type\")\n",
    "plt.subplot(1,3,3)\n",
    "sb.boxplot(x=\"type\", y=\"residual sugar\", data=wine)\n",
    "plt.title(\"Residual Sugar by Wine Type\")\n",
    "plt.tight_layout()\n",
    "plt.show()"
   ]
  },
  {
   "cell_type": "code",
   "execution_count": null,
   "id": "bd12cd4d",
   "metadata": {},
   "outputs": [],
   "source": [
    "# which type of wine has higher average quality, how big is the difference?\n",
    "mean_quality = wine.groupby(\"type\")[\"quality\"].mean()\n",
    "print(\"average quality:\\n\", mean_quality)\n",
    "print(\"difference:\", abs(mean_quality[\"white\"] - mean_quality[\"red\"]))\n",
    "\n",
    "# white has on average higher quality"
   ]
  },
  {
   "cell_type": "code",
   "execution_count": null,
   "id": "61d5da46",
   "metadata": {},
   "outputs": [],
   "source": [
    "# which type of wine has higher average level of alcohol?\n",
    "mean_alcohol = wine.groupby(\"type\")[\"alcohol\"].mean()\n",
    "print(\"Average alcohol:\\n\", mean_alcohol)\n",
    "print(\"difference:\", abs(mean_alcohol[\"white\"] - mean_alcohol[\"red\"]))\n",
    "\n",
    "# white has on average higher level of alcohol"
   ]
  },
  {
   "cell_type": "code",
   "execution_count": null,
   "id": "610ae86a",
   "metadata": {},
   "outputs": [],
   "source": [
    "# which one has higher average quantity of residual sugar?\n",
    "\n",
    "mean_sugar = wine.groupby(\"type\")[\"residual sugar\"].mean()\n",
    "print(\"Average residual sugar:\\n\", mean_sugar)\n",
    "print(\"difference:\", abs(mean_sugar[\"white\"] - mean_sugar[\"red\"]))\n",
    "\n",
    "# white has on average higher quantity of residual sugar"
   ]
  },
  {
   "cell_type": "code",
   "execution_count": null,
   "id": "b0d400c3",
   "metadata": {},
   "outputs": [],
   "source": [
    "plt.figure(figsize=(10,4))\n",
    "plt.subplot(1,2,1)\n",
    "sb.scatterplot(x=\"alcohol\", y=\"quality\", hue=\"type\", data=wine, alpha=0.5)\n",
    "plt.title(\"Alcohol vs. Quality\")\n",
    "plt.subplot(1,2,2)\n",
    "sb.scatterplot(x=\"residual sugar\", y=\"quality\", hue=\"type\", data=wine, alpha=0.5)\n",
    "plt.title(\"Residual Sugar vs. Quality\")\n",
    "plt.tight_layout()\n",
    "plt.show()"
   ]
  },
  {
   "cell_type": "code",
   "execution_count": null,
   "id": "cc855b98",
   "metadata": {},
   "outputs": [],
   "source": [
    "print(\"Korrelationskoefficient (alcohol vs. quality):\")\n",
    "print(wine[[\"alcohol\", \"quality\"]].corr())\n",
    "print(\"Korrelationskoefficient (residual sugar vs. quality):\")\n",
    "print(wine[[\"residual sugar\", \"quality\"]].corr())"
   ]
  },
  {
   "cell_type": "code",
   "execution_count": null,
   "id": "1cf0ccaf",
   "metadata": {},
   "outputs": [],
   "source": [
    "#Binning wines in groups of 5 and 10 bins.\n",
    "\n",
    "def find_highest_density(df, bins, label):\n",
    "    #Bin the pH column\n",
    "    binned = pd.cut(df[\"pH\"], bins=bins)\n",
    "    \n",
    "    counts = binned.value_counts().sort_index()\n",
    "    \n",
    "    #Print the densest bin.\n",
    "    max_bin = counts.idxmax()\n",
    "    print(f\"{label}: Number of bins = {bins} Highest density in pH range of {max_bin} with {counts.max()} samples\")\n",
    "    return counts\n",
    "\n",
    "print(\"5 bins\")\n",
    "find_highest_density(wine, bins=5, label=\"All wines\")\n",
    "find_highest_density(wine[wine[\"type_encoded\"]==0], bins=5, label=\"Red wines\")\n",
    "find_highest_density(wine[wine[\"type_encoded\"]==1], bins=5, label=\"White wines\")\n",
    "\n",
    "print(\"\\n10 bins\")\n",
    "find_highest_density(wine, bins=10, label=\"All wines\")\n",
    "find_highest_density(wine[wine[\"type_encoded\"]==0], bins=10, label=\"Red wines\")\n",
    "find_highest_density(wine[wine[\"type_encoded\"]==1], bins=10, label=\"White wines\")"
   ]
  },
  {
   "cell_type": "code",
   "execution_count": null,
   "id": "486dd6b4",
   "metadata": {},
   "outputs": [],
   "source": [
    "#Visual graph for pH density on red, white and all wines combined.\n",
    "plt.figure(figsize=(12,6))\n",
    "\n",
    "#Change bins=x the higer x is the more detailed the graph gets.\n",
    "plt.hist(wine[wine[\"type_encoded\"]==0][\"pH\"], bins=20, alpha=0.5, label=\"Red wine\", edgecolor=\"black\", color=\"red\")\n",
    "plt.hist(wine[wine[\"type_encoded\"]==1][\"pH\"], bins=20, alpha=0.5, label=\"White wine\", edgecolor=\"black\", color=\"orange\")\n",
    "plt.hist(wine[\"pH\"], bins=20, alpha=0.5, label=\"All wines\", edgecolor=\"black\")\n",
    "\n",
    "plt.xlabel(\"pH\")\n",
    "plt.ylabel(\"Count\")\n",
    "plt.title(\"pH Distribution of Red, White, and Combined Wine\")\n",
    "plt.legend()\n",
    "plt.show()"
   ]
  },
  {
   "cell_type": "code",
   "execution_count": null,
   "id": "5bc7677c",
   "metadata": {},
   "outputs": [],
   "source": [
    "#Individual graphs for red and white wines.\n",
    "fig, axes = plt.subplots(1, 2, figsize=(12,5), sharey=True)\n",
    "\n",
    "axes[0].hist(wine[wine[\"type_encoded\"]==0][\"pH\"], bins=20, color=\"red\", edgecolor=\"black\")\n",
    "axes[0].set_title(\"Red Wine pH Distribution\")\n",
    "axes[0].set_xlabel(\"pH\")\n",
    "axes[0].set_ylabel(\"Count\")\n",
    "\n",
    "axes[1].hist(wine[wine[\"type_encoded\"]==1][\"pH\"], bins=20, color=\"orange\", edgecolor=\"black\")\n",
    "axes[1].set_title(\"White Wine pH Distribution\")\n",
    "axes[1].set_xlabel(\"pH\")\n",
    "\n",
    "plt.suptitle(\"Individual Histograms by Wine Type\", fontsize=14)\n",
    "plt.show()"
   ]
  },
  {
   "cell_type": "code",
   "execution_count": null,
   "id": "5c80937a",
   "metadata": {
    "scrolled": true
   },
   "outputs": [],
   "source": [
    "#Define bins and labels\n",
    "bins = [2.5, 3.1, 3.4, 4.5]  \n",
    "labels = [\"Low\", \"Medium\", \"High\"]\n",
    "\n",
    "wine[\"pH_category\"] = pd.cut(wine[\"pH\"], bins=bins, labels=labels)\n",
    "\n",
    "category_counts = wine.groupby([\"pH_category\", \"type_encoded\"]).size().unstack(fill_value=0)\n",
    "category_counts.columns = [\"Red wine\", \"White wine\"]\n",
    "\n",
    "range_labels = [\n",
    "    f\"Low ({bins[0]}–{bins[1]})\",\n",
    "    f\"Medium ({bins[1]}–{bins[2]})\",\n",
    "    f\"High ({bins[2]}–{bins[3]})\"\n",
    "]\n",
    "\n",
    "ax = category_counts.plot(\n",
    "    kind=\"bar\", \n",
    "    stacked=True, \n",
    "    color=[\"red\", \"orange\"], \n",
    "    edgecolor=\"black\",\n",
    "    figsize=(9,6)\n",
    ")\n",
    "\n",
    "ax.set_xlabel(\"pH Category\")\n",
    "ax.set_ylabel(\"Count\")\n",
    "ax.set_title(\"Wine Distribution by pH Category (Red vs White Wine)\")\n",
    "ax.set_xticklabels(range_labels, rotation=0)\n",
    "plt.legend()\n",
    "plt.show()"
   ]
  },
  {
   "cell_type": "code",
   "execution_count": null,
   "id": "6e0fe269-a519-4971-a940-37fa8810cecf",
   "metadata": {},
   "outputs": [],
   "source": []
  }
 ],
 "metadata": {
  "kernelspec": {
   "display_name": "base",
   "language": "python",
   "name": "python3"
  },
  "language_info": {
   "codemirror_mode": {
    "name": "ipython",
    "version": 3
   },
   "file_extension": ".py",
   "mimetype": "text/x-python",
   "name": "python",
   "nbconvert_exporter": "python",
   "pygments_lexer": "ipython3",
   "version": "3.13.5"
  }
 },
 "nbformat": 4,
 "nbformat_minor": 5
}
