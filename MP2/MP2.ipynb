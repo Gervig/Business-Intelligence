{
 "cells": [
  {
   "cell_type": "code",
   "execution_count": 200,
   "id": "cd42b49f-772d-4da7-ae40-e26a9bcf3170",
   "metadata": {},
   "outputs": [],
   "source": [
    "import pandas as pd\n",
    "import matplotlib.pyplot as plt #Scatterplot\n",
    "import seaborn as sb\n",
    "import numpy as np"
   ]
  },
  {
   "cell_type": "code",
   "execution_count": 201,
   "id": "3ad4b982",
   "metadata": {},
   "outputs": [],
   "source": [
    "from sklearn.preprocessing import MinMaxScaler"
   ]
  },
  {
   "cell_type": "markdown",
   "id": "5b9299cc",
   "metadata": {},
   "source": [
    "# MP2"
   ]
  },
  {
   "cell_type": "markdown",
   "id": "6431848c-6053-4295-8d79-70e358c6e0e0",
   "metadata": {},
   "source": [
    "## Ingesting the data"
   ]
  },
  {
   "cell_type": "code",
   "execution_count": 202,
   "id": "106dd36a-78a9-4cc9-a022-26fe11e8d706",
   "metadata": {},
   "outputs": [],
   "source": [
    "#The data is placed in an folder so we load the data through the folder with \\\n",
    "data1 = pd.read_excel(\"wine-data\\winequality-red.xlsx\", header=1)\n",
    "data2 = pd.read_excel(\"wine-data\\winequality-white.xlsx\", header=1)"
   ]
  },
  {
   "cell_type": "markdown",
   "id": "71f6a7f6-7270-411d-b950-062a8958f6a0",
   "metadata": {},
   "source": [
    "### Aggregating the data together into one data file - but first we add a column named type"
   ]
  },
  {
   "cell_type": "code",
   "execution_count": 203,
   "id": "9d7db624-43ba-4277-a9e2-5f94174ad239",
   "metadata": {},
   "outputs": [],
   "source": [
    "#Adding the type\n",
    "data1[\"type\"] = \"red\"\n",
    "data2[\"type\"] = \"white\"\n",
    "\n",
    "# Merge/concatenate - the ignore_index resets the index numbers\n",
    "wine = pd.concat([data1, data2], ignore_index=True)"
   ]
  },
  {
   "cell_type": "code",
   "execution_count": 204,
   "id": "35d18f2a-c646-43f8-8f37-8e6af63a7af3",
   "metadata": {},
   "outputs": [
    {
     "data": {
      "text/html": [
       "<div>\n",
       "<style scoped>\n",
       "    .dataframe tbody tr th:only-of-type {\n",
       "        vertical-align: middle;\n",
       "    }\n",
       "\n",
       "    .dataframe tbody tr th {\n",
       "        vertical-align: top;\n",
       "    }\n",
       "\n",
       "    .dataframe thead th {\n",
       "        text-align: right;\n",
       "    }\n",
       "</style>\n",
       "<table border=\"1\" class=\"dataframe\">\n",
       "  <thead>\n",
       "    <tr style=\"text-align: right;\">\n",
       "      <th></th>\n",
       "      <th>fixed acidity</th>\n",
       "      <th>volatile acidity</th>\n",
       "      <th>citric acid</th>\n",
       "      <th>residual sugar</th>\n",
       "      <th>chlorides</th>\n",
       "      <th>free sulfur dioxide</th>\n",
       "      <th>total sulfur dioxide</th>\n",
       "      <th>density</th>\n",
       "      <th>pH</th>\n",
       "      <th>sulphates</th>\n",
       "      <th>alcohol</th>\n",
       "      <th>quality</th>\n",
       "      <th>type</th>\n",
       "    </tr>\n",
       "  </thead>\n",
       "  <tbody>\n",
       "    <tr>\n",
       "      <th>3477</th>\n",
       "      <td>8.0</td>\n",
       "      <td>0.25</td>\n",
       "      <td>0.26</td>\n",
       "      <td>14.0</td>\n",
       "      <td>0.043</td>\n",
       "      <td>41.0</td>\n",
       "      <td>248.0</td>\n",
       "      <td>0.99860</td>\n",
       "      <td>3.03</td>\n",
       "      <td>0.57</td>\n",
       "      <td>8.70</td>\n",
       "      <td>6</td>\n",
       "      <td>white</td>\n",
       "    </tr>\n",
       "    <tr>\n",
       "      <th>3032</th>\n",
       "      <td>7.1</td>\n",
       "      <td>0.29</td>\n",
       "      <td>0.49</td>\n",
       "      <td>1.2</td>\n",
       "      <td>0.031</td>\n",
       "      <td>32.0</td>\n",
       "      <td>99.0</td>\n",
       "      <td>0.98930</td>\n",
       "      <td>3.07</td>\n",
       "      <td>0.33</td>\n",
       "      <td>12.20</td>\n",
       "      <td>6</td>\n",
       "      <td>white</td>\n",
       "    </tr>\n",
       "    <tr>\n",
       "      <th>1674</th>\n",
       "      <td>7.4</td>\n",
       "      <td>0.24</td>\n",
       "      <td>0.29</td>\n",
       "      <td>10.1</td>\n",
       "      <td>0.050</td>\n",
       "      <td>21.0</td>\n",
       "      <td>105.0</td>\n",
       "      <td>0.99620</td>\n",
       "      <td>3.13</td>\n",
       "      <td>0.35</td>\n",
       "      <td>9.50</td>\n",
       "      <td>5</td>\n",
       "      <td>white</td>\n",
       "    </tr>\n",
       "    <tr>\n",
       "      <th>5913</th>\n",
       "      <td>6.3</td>\n",
       "      <td>0.41</td>\n",
       "      <td>0.22</td>\n",
       "      <td>7.3</td>\n",
       "      <td>0.035</td>\n",
       "      <td>23.0</td>\n",
       "      <td>117.0</td>\n",
       "      <td>0.99172</td>\n",
       "      <td>3.20</td>\n",
       "      <td>0.39</td>\n",
       "      <td>11.94</td>\n",
       "      <td>7</td>\n",
       "      <td>white</td>\n",
       "    </tr>\n",
       "    <tr>\n",
       "      <th>4473</th>\n",
       "      <td>5.4</td>\n",
       "      <td>0.23</td>\n",
       "      <td>0.36</td>\n",
       "      <td>1.5</td>\n",
       "      <td>0.030</td>\n",
       "      <td>74.0</td>\n",
       "      <td>121.0</td>\n",
       "      <td>0.98976</td>\n",
       "      <td>3.24</td>\n",
       "      <td>0.99</td>\n",
       "      <td>12.10</td>\n",
       "      <td>7</td>\n",
       "      <td>white</td>\n",
       "    </tr>\n",
       "    <tr>\n",
       "      <th>4791</th>\n",
       "      <td>8.3</td>\n",
       "      <td>0.16</td>\n",
       "      <td>0.37</td>\n",
       "      <td>7.9</td>\n",
       "      <td>0.025</td>\n",
       "      <td>38.0</td>\n",
       "      <td>107.0</td>\n",
       "      <td>0.99306</td>\n",
       "      <td>2.93</td>\n",
       "      <td>0.37</td>\n",
       "      <td>11.90</td>\n",
       "      <td>6</td>\n",
       "      <td>white</td>\n",
       "    </tr>\n",
       "    <tr>\n",
       "      <th>5040</th>\n",
       "      <td>7.1</td>\n",
       "      <td>0.25</td>\n",
       "      <td>0.28</td>\n",
       "      <td>1.2</td>\n",
       "      <td>0.040</td>\n",
       "      <td>31.0</td>\n",
       "      <td>111.0</td>\n",
       "      <td>0.99174</td>\n",
       "      <td>3.18</td>\n",
       "      <td>0.53</td>\n",
       "      <td>11.10</td>\n",
       "      <td>5</td>\n",
       "      <td>white</td>\n",
       "    </tr>\n",
       "    <tr>\n",
       "      <th>4120</th>\n",
       "      <td>6.5</td>\n",
       "      <td>0.18</td>\n",
       "      <td>0.33</td>\n",
       "      <td>1.4</td>\n",
       "      <td>0.029</td>\n",
       "      <td>35.0</td>\n",
       "      <td>138.0</td>\n",
       "      <td>0.99114</td>\n",
       "      <td>3.36</td>\n",
       "      <td>0.60</td>\n",
       "      <td>11.50</td>\n",
       "      <td>7</td>\n",
       "      <td>white</td>\n",
       "    </tr>\n",
       "    <tr>\n",
       "      <th>3720</th>\n",
       "      <td>7.7</td>\n",
       "      <td>0.39</td>\n",
       "      <td>0.28</td>\n",
       "      <td>4.9</td>\n",
       "      <td>0.035</td>\n",
       "      <td>36.0</td>\n",
       "      <td>109.0</td>\n",
       "      <td>0.99180</td>\n",
       "      <td>3.19</td>\n",
       "      <td>0.58</td>\n",
       "      <td>12.20</td>\n",
       "      <td>7</td>\n",
       "      <td>white</td>\n",
       "    </tr>\n",
       "    <tr>\n",
       "      <th>1108</th>\n",
       "      <td>8.1</td>\n",
       "      <td>0.78</td>\n",
       "      <td>0.10</td>\n",
       "      <td>3.3</td>\n",
       "      <td>0.090</td>\n",
       "      <td>4.0</td>\n",
       "      <td>13.0</td>\n",
       "      <td>0.99855</td>\n",
       "      <td>3.36</td>\n",
       "      <td>0.49</td>\n",
       "      <td>9.50</td>\n",
       "      <td>5</td>\n",
       "      <td>red</td>\n",
       "    </tr>\n",
       "  </tbody>\n",
       "</table>\n",
       "</div>"
      ],
      "text/plain": [
       "      fixed acidity  volatile acidity  citric acid  residual sugar  chlorides  \\\n",
       "3477            8.0              0.25         0.26            14.0      0.043   \n",
       "3032            7.1              0.29         0.49             1.2      0.031   \n",
       "1674            7.4              0.24         0.29            10.1      0.050   \n",
       "5913            6.3              0.41         0.22             7.3      0.035   \n",
       "4473            5.4              0.23         0.36             1.5      0.030   \n",
       "4791            8.3              0.16         0.37             7.9      0.025   \n",
       "5040            7.1              0.25         0.28             1.2      0.040   \n",
       "4120            6.5              0.18         0.33             1.4      0.029   \n",
       "3720            7.7              0.39         0.28             4.9      0.035   \n",
       "1108            8.1              0.78         0.10             3.3      0.090   \n",
       "\n",
       "      free sulfur dioxide  total sulfur dioxide  density    pH  sulphates  \\\n",
       "3477                 41.0                 248.0  0.99860  3.03       0.57   \n",
       "3032                 32.0                  99.0  0.98930  3.07       0.33   \n",
       "1674                 21.0                 105.0  0.99620  3.13       0.35   \n",
       "5913                 23.0                 117.0  0.99172  3.20       0.39   \n",
       "4473                 74.0                 121.0  0.98976  3.24       0.99   \n",
       "4791                 38.0                 107.0  0.99306  2.93       0.37   \n",
       "5040                 31.0                 111.0  0.99174  3.18       0.53   \n",
       "4120                 35.0                 138.0  0.99114  3.36       0.60   \n",
       "3720                 36.0                 109.0  0.99180  3.19       0.58   \n",
       "1108                  4.0                  13.0  0.99855  3.36       0.49   \n",
       "\n",
       "      alcohol  quality   type  \n",
       "3477     8.70        6  white  \n",
       "3032    12.20        6  white  \n",
       "1674     9.50        5  white  \n",
       "5913    11.94        7  white  \n",
       "4473    12.10        7  white  \n",
       "4791    11.90        6  white  \n",
       "5040    11.10        5  white  \n",
       "4120    11.50        7  white  \n",
       "3720    12.20        7  white  \n",
       "1108     9.50        5    red  "
      ]
     },
     "execution_count": 204,
     "metadata": {},
     "output_type": "execute_result"
    }
   ],
   "source": [
    "#Shows a random sample, to show that the data is mixed\n",
    "wine.sample(10)"
   ]
  },
  {
   "cell_type": "markdown",
   "id": "ee35141f-517c-4520-b6dd-a6808e2fa9b2",
   "metadata": {},
   "source": [
    "## Cleaning the data"
   ]
  },
  {
   "cell_type": "code",
   "execution_count": 205,
   "id": "3f75fb77-73c9-4685-8ff9-562327ac0b20",
   "metadata": {},
   "outputs": [
    {
     "data": {
      "text/plain": [
       "(6497, 13)"
      ]
     },
     "execution_count": 205,
     "metadata": {},
     "output_type": "execute_result"
    }
   ],
   "source": [
    "#We use shape to show the size of the dataset, through the number of observations and how many variables there are\n",
    "wine.shape"
   ]
  },
  {
   "cell_type": "code",
   "execution_count": 206,
   "id": "d67adab6-41e7-4130-b4ae-11c2f48987de",
   "metadata": {},
   "outputs": [
    {
     "name": "stdout",
     "output_type": "stream",
     "text": [
      "fixed acidity           0\n",
      "volatile acidity        0\n",
      "citric acid             0\n",
      "residual sugar          0\n",
      "chlorides               0\n",
      "free sulfur dioxide     0\n",
      "total sulfur dioxide    0\n",
      "density                 0\n",
      "pH                      0\n",
      "sulphates               0\n",
      "alcohol                 0\n",
      "quality                 0\n",
      "type                    0\n",
      "dtype: int64\n"
     ]
    }
   ],
   "source": [
    "#Finding missing values (null) - It shows how many of the different variables has null values\n",
    "print(wine.isnull().sum())"
   ]
  },
  {
   "cell_type": "markdown",
   "id": "586dacd4-ecfb-41b9-8b3b-04f1ee29ef84",
   "metadata": {},
   "source": [
    "### Since there are no null values, we do not need to drop them"
   ]
  },
  {
   "cell_type": "code",
   "execution_count": 207,
   "id": "faf44f76-e523-4ac4-bf0e-234348e75d43",
   "metadata": {},
   "outputs": [
    {
     "data": {
      "text/plain": [
       "np.int64(1177)"
      ]
     },
     "execution_count": 207,
     "metadata": {},
     "output_type": "execute_result"
    }
   ],
   "source": [
    "#Shows how many duplicated values there are. It compares all of the columns.\n",
    "wine.duplicated().sum()"
   ]
  },
  {
   "cell_type": "markdown",
   "id": "6acea351-a1d5-41b6-bdc4-1b5536a54cec",
   "metadata": {},
   "source": [
    "### We therefore have 1177 duplicates"
   ]
  },
  {
   "cell_type": "code",
   "execution_count": 208,
   "id": "e02053d3-151a-47a5-b6c3-590cf998df91",
   "metadata": {},
   "outputs": [
    {
     "name": "stdout",
     "output_type": "stream",
     "text": [
      "    fixed acidity  volatile acidity  citric acid  residual sugar  chlorides  \\\n",
      "4             7.4             0.700         0.00            1.90      0.076   \n",
      "11            7.5             0.500         0.36            6.10      0.071   \n",
      "27            7.9             0.430         0.21            1.60      0.106   \n",
      "40            7.3             0.450         0.36            5.90      0.074   \n",
      "65            7.2             0.725         0.05            4.65      0.086   \n",
      "\n",
      "    free sulfur dioxide  total sulfur dioxide  density    pH  sulphates  \\\n",
      "4                  11.0                  34.0   0.9978  3.51       0.56   \n",
      "11                 17.0                 102.0   0.9978  3.35       0.80   \n",
      "27                 10.0                  37.0   0.9966  3.17       0.91   \n",
      "40                 12.0                  87.0   0.9978  3.33       0.83   \n",
      "65                  4.0                  11.0   0.9962  3.41       0.39   \n",
      "\n",
      "    alcohol  quality type  \n",
      "4       9.4        5  red  \n",
      "11     10.5        5  red  \n",
      "27      9.5        5  red  \n",
      "40     10.5        5  red  \n",
      "65     10.9        5  red  \n"
     ]
    }
   ],
   "source": [
    "#This shows the first five duplicates.\n",
    "duplicates = wine[wine.duplicated()]\n",
    "print(duplicates.head())"
   ]
  },
  {
   "cell_type": "code",
   "execution_count": 209,
   "id": "601b6e56-60c5-464e-bc35-8edb9b848660",
   "metadata": {},
   "outputs": [],
   "source": [
    "#Dropping the 1177 duplicates and resetting the index\n",
    "wine.drop_duplicates(inplace=True, ignore_index=True)"
   ]
  },
  {
   "cell_type": "markdown",
   "id": "08cd488a-5377-498e-965b-65bdda55baee",
   "metadata": {},
   "source": [
    "### Checking for damaged values"
   ]
  },
  {
   "cell_type": "code",
   "execution_count": 210,
   "id": "f9697f08-2d54-4c27-a31c-6f5b45cc5460",
   "metadata": {},
   "outputs": [
    {
     "data": {
      "text/plain": [
       "fixed acidity           0\n",
       "volatile acidity        0\n",
       "citric acid             0\n",
       "residual sugar          0\n",
       "chlorides               0\n",
       "free sulfur dioxide     0\n",
       "total sulfur dioxide    0\n",
       "density                 0\n",
       "pH                      0\n",
       "sulphates               0\n",
       "alcohol                 0\n",
       "quality                 0\n",
       "dtype: int64"
      ]
     },
     "execution_count": 210,
     "metadata": {},
     "output_type": "execute_result"
    }
   ],
   "source": [
    "#Negative values - \n",
    "(wine.drop(columns=\"type\") < 0).sum()"
   ]
  },
  {
   "cell_type": "code",
   "execution_count": 211,
   "id": "8a6225b8-f022-41b2-86c6-819f634007b2",
   "metadata": {},
   "outputs": [
    {
     "data": {
      "text/plain": [
       "fixed acidity           0.0\n",
       "volatile acidity        0.0\n",
       "citric acid             0.0\n",
       "residual sugar          0.0\n",
       "chlorides               0.0\n",
       "free sulfur dioxide     0.0\n",
       "total sulfur dioxide    0.0\n",
       "density                 0.0\n",
       "pH                      0.0\n",
       "sulphates               0.0\n",
       "alcohol                 0.0\n",
       "quality                   0\n",
       "type                      0\n",
       "dtype: object"
      ]
     },
     "execution_count": 211,
     "metadata": {},
     "output_type": "execute_result"
    }
   ],
   "source": [
    "#pH value 7 or bigger for wine, as wine is acid and 7 is neutral - \n",
    "wine[(wine['pH']>7)].sum()"
   ]
  },
  {
   "cell_type": "raw",
   "id": "b56948de-a53a-4401-93d0-a88732521f44",
   "metadata": {},
   "source": [
    "There at no damaged values, and therefore none to remove"
   ]
  },
  {
   "cell_type": "markdown",
   "id": "0c3824cf-2c2a-4139-9a3d-6b43e28d0d7f",
   "metadata": {},
   "source": [
    "## The outliers for the \"accepted\" wine values"
   ]
  },
  {
   "cell_type": "code",
   "execution_count": 212,
   "id": "14f4aa72-d98b-4866-956a-eeccebaa9d81",
   "metadata": {},
   "outputs": [],
   "source": [
    "def check_min_max(list, expected_range):\n",
    "    report = []\n",
    "    for col, (min_val, max_val) in expected_range.items():\n",
    "        count = ((list[col] < min_val) | (list[col] > max_val)).sum()\n",
    "        report.append({\"column\": col, \"outliers\": count})\n",
    "\n",
    "    report_df = pd.DataFrame(report)\n",
    "    print(report_df)"
   ]
  },
  {
   "cell_type": "code",
   "execution_count": 213,
   "id": "e7b2e906-a6b7-43d0-8f59-a1ae861c04b6",
   "metadata": {},
   "outputs": [
    {
     "name": "stdout",
     "output_type": "stream",
     "text": [
      "                  column  outliers\n",
      "0          fixed acidity         0\n",
      "1       volatile acidity         0\n",
      "2            citric acid         0\n",
      "3         residual sugar         0\n",
      "4              chlorides         0\n",
      "5    free sulfur dioxide         0\n",
      "6   total sulfur dioxide         0\n",
      "7                density         0\n",
      "8                     pH         0\n",
      "9              sulphates         0\n",
      "10               alcohol         0\n",
      "11               quality         0\n"
     ]
    }
   ],
   "source": [
    "#Our expected ranges for red wine\n",
    "expected_ranges_red = {\n",
    "    \"fixed acidity\": (4.6, 15.9),\n",
    "    \"volatile acidity\": (0.12, 1.58),\n",
    "    \"citric acid\": (0.0, 1.0),\n",
    "    \"residual sugar\": (0.9, 15.5),\n",
    "    \"chlorides\": (0.012, 0.611),\n",
    "    \"free sulfur dioxide\": (1, 72),\n",
    "    \"total sulfur dioxide\": (6, 289),\n",
    "    \"density\": (0.99007, 1.00369),\n",
    "    \"pH\": (2.74, 4.01),\n",
    "    \"sulphates\": (0.33, 2.0),\n",
    "    \"alcohol\": (8.4, 14.9),\n",
    "    \"quality\": (3, 8)\n",
    "}\n",
    "red_wine = wine[wine[\"type\"] == \"red\"]\n",
    "\n",
    "check_min_max(red_wine, expected_ranges_red)"
   ]
  },
  {
   "cell_type": "code",
   "execution_count": 214,
   "id": "882f3fd7-9559-4bcb-85c8-4477d83bdd45",
   "metadata": {},
   "outputs": [
    {
     "name": "stdout",
     "output_type": "stream",
     "text": [
      "                  column  outliers\n",
      "0          fixed acidity         0\n",
      "1       volatile acidity         0\n",
      "2            citric acid         0\n",
      "3         residual sugar         0\n",
      "4              chlorides         0\n",
      "5    free sulfur dioxide         0\n",
      "6   total sulfur dioxide         0\n",
      "7                density         0\n",
      "8                     pH         0\n",
      "9              sulphates         0\n",
      "10               alcohol         0\n",
      "11               quality         0\n"
     ]
    }
   ],
   "source": [
    "#Our expected ranges for white wine\n",
    "expected_ranges_white = {\n",
    "    \"fixed acidity\": (3.8, 14.2),\n",
    "    \"volatile acidity\": (0.08, 1.10),\n",
    "    \"citric acid\": (0.0, 1.66),\n",
    "    \"residual sugar\": (0.6, 65.8),\n",
    "    \"chlorides\": (0.009, 0.346),\n",
    "    \"free sulfur dioxide\": (2, 289),\n",
    "    \"total sulfur dioxide\": (9, 440),\n",
    "    \"density\": (0.98711, 1.03898),\n",
    "    \"pH\": (2.72, 3.82),\n",
    "    \"sulphates\": (0.22, 1.08),\n",
    "    \"alcohol\": (8.0, 14.2),\n",
    "    \"quality\": (3, 9)\n",
    "}\n",
    "\n",
    "#Right now we are only checking for the values of white wine, so we need to filter on the type of wine\n",
    "white_wine = wine[wine[\"type\"] == \"white\"]\n",
    "\n",
    "check_min_max(white_wine, expected_ranges_white)"
   ]
  },
  {
   "cell_type": "code",
   "execution_count": 215,
   "id": "b55ff05b-1987-4038-a333-d40aea34de7f",
   "metadata": {},
   "outputs": [
    {
     "data": {
      "text/html": [
       "<div>\n",
       "<style scoped>\n",
       "    .dataframe tbody tr th:only-of-type {\n",
       "        vertical-align: middle;\n",
       "    }\n",
       "\n",
       "    .dataframe tbody tr th {\n",
       "        vertical-align: top;\n",
       "    }\n",
       "\n",
       "    .dataframe thead th {\n",
       "        text-align: right;\n",
       "    }\n",
       "</style>\n",
       "<table border=\"1\" class=\"dataframe\">\n",
       "  <thead>\n",
       "    <tr style=\"text-align: right;\">\n",
       "      <th></th>\n",
       "      <th>fixed acidity</th>\n",
       "      <th>volatile acidity</th>\n",
       "      <th>citric acid</th>\n",
       "      <th>residual sugar</th>\n",
       "      <th>chlorides</th>\n",
       "      <th>free sulfur dioxide</th>\n",
       "      <th>total sulfur dioxide</th>\n",
       "      <th>density</th>\n",
       "      <th>pH</th>\n",
       "      <th>sulphates</th>\n",
       "      <th>alcohol</th>\n",
       "      <th>quality</th>\n",
       "    </tr>\n",
       "  </thead>\n",
       "  <tbody>\n",
       "    <tr>\n",
       "      <th>count</th>\n",
       "      <td>5320.000000</td>\n",
       "      <td>5320.000000</td>\n",
       "      <td>5320.000000</td>\n",
       "      <td>5320.000000</td>\n",
       "      <td>5320.000000</td>\n",
       "      <td>5320.000000</td>\n",
       "      <td>5320.000000</td>\n",
       "      <td>5320.000000</td>\n",
       "      <td>5320.000000</td>\n",
       "      <td>5320.000000</td>\n",
       "      <td>5320.000000</td>\n",
       "      <td>5320.000000</td>\n",
       "    </tr>\n",
       "    <tr>\n",
       "      <th>mean</th>\n",
       "      <td>7.215179</td>\n",
       "      <td>0.344130</td>\n",
       "      <td>0.318494</td>\n",
       "      <td>5.048477</td>\n",
       "      <td>0.056690</td>\n",
       "      <td>30.036654</td>\n",
       "      <td>114.109023</td>\n",
       "      <td>0.994535</td>\n",
       "      <td>3.224664</td>\n",
       "      <td>0.533357</td>\n",
       "      <td>10.549241</td>\n",
       "      <td>5.795677</td>\n",
       "    </tr>\n",
       "    <tr>\n",
       "      <th>std</th>\n",
       "      <td>1.319671</td>\n",
       "      <td>0.168248</td>\n",
       "      <td>0.147157</td>\n",
       "      <td>4.500180</td>\n",
       "      <td>0.036863</td>\n",
       "      <td>17.805045</td>\n",
       "      <td>56.774223</td>\n",
       "      <td>0.002966</td>\n",
       "      <td>0.160379</td>\n",
       "      <td>0.149743</td>\n",
       "      <td>1.185933</td>\n",
       "      <td>0.879772</td>\n",
       "    </tr>\n",
       "    <tr>\n",
       "      <th>min</th>\n",
       "      <td>3.800000</td>\n",
       "      <td>0.080000</td>\n",
       "      <td>0.000000</td>\n",
       "      <td>0.600000</td>\n",
       "      <td>0.009000</td>\n",
       "      <td>1.000000</td>\n",
       "      <td>6.000000</td>\n",
       "      <td>0.987110</td>\n",
       "      <td>2.720000</td>\n",
       "      <td>0.220000</td>\n",
       "      <td>8.000000</td>\n",
       "      <td>3.000000</td>\n",
       "    </tr>\n",
       "    <tr>\n",
       "      <th>25%</th>\n",
       "      <td>6.400000</td>\n",
       "      <td>0.230000</td>\n",
       "      <td>0.240000</td>\n",
       "      <td>1.800000</td>\n",
       "      <td>0.038000</td>\n",
       "      <td>16.000000</td>\n",
       "      <td>74.000000</td>\n",
       "      <td>0.992200</td>\n",
       "      <td>3.110000</td>\n",
       "      <td>0.430000</td>\n",
       "      <td>9.500000</td>\n",
       "      <td>5.000000</td>\n",
       "    </tr>\n",
       "    <tr>\n",
       "      <th>50%</th>\n",
       "      <td>7.000000</td>\n",
       "      <td>0.300000</td>\n",
       "      <td>0.310000</td>\n",
       "      <td>2.700000</td>\n",
       "      <td>0.047000</td>\n",
       "      <td>28.000000</td>\n",
       "      <td>116.000000</td>\n",
       "      <td>0.994650</td>\n",
       "      <td>3.210000</td>\n",
       "      <td>0.510000</td>\n",
       "      <td>10.400000</td>\n",
       "      <td>6.000000</td>\n",
       "    </tr>\n",
       "    <tr>\n",
       "      <th>75%</th>\n",
       "      <td>7.700000</td>\n",
       "      <td>0.410000</td>\n",
       "      <td>0.400000</td>\n",
       "      <td>7.500000</td>\n",
       "      <td>0.066000</td>\n",
       "      <td>41.000000</td>\n",
       "      <td>153.250000</td>\n",
       "      <td>0.996770</td>\n",
       "      <td>3.330000</td>\n",
       "      <td>0.600000</td>\n",
       "      <td>11.400000</td>\n",
       "      <td>6.000000</td>\n",
       "    </tr>\n",
       "    <tr>\n",
       "      <th>max</th>\n",
       "      <td>15.900000</td>\n",
       "      <td>1.580000</td>\n",
       "      <td>1.660000</td>\n",
       "      <td>65.800000</td>\n",
       "      <td>0.611000</td>\n",
       "      <td>289.000000</td>\n",
       "      <td>440.000000</td>\n",
       "      <td>1.038980</td>\n",
       "      <td>4.010000</td>\n",
       "      <td>2.000000</td>\n",
       "      <td>14.900000</td>\n",
       "      <td>9.000000</td>\n",
       "    </tr>\n",
       "  </tbody>\n",
       "</table>\n",
       "</div>"
      ],
      "text/plain": [
       "       fixed acidity  volatile acidity  citric acid  residual sugar  \\\n",
       "count    5320.000000       5320.000000  5320.000000     5320.000000   \n",
       "mean        7.215179          0.344130     0.318494        5.048477   \n",
       "std         1.319671          0.168248     0.147157        4.500180   \n",
       "min         3.800000          0.080000     0.000000        0.600000   \n",
       "25%         6.400000          0.230000     0.240000        1.800000   \n",
       "50%         7.000000          0.300000     0.310000        2.700000   \n",
       "75%         7.700000          0.410000     0.400000        7.500000   \n",
       "max        15.900000          1.580000     1.660000       65.800000   \n",
       "\n",
       "         chlorides  free sulfur dioxide  total sulfur dioxide      density  \\\n",
       "count  5320.000000          5320.000000           5320.000000  5320.000000   \n",
       "mean      0.056690            30.036654            114.109023     0.994535   \n",
       "std       0.036863            17.805045             56.774223     0.002966   \n",
       "min       0.009000             1.000000              6.000000     0.987110   \n",
       "25%       0.038000            16.000000             74.000000     0.992200   \n",
       "50%       0.047000            28.000000            116.000000     0.994650   \n",
       "75%       0.066000            41.000000            153.250000     0.996770   \n",
       "max       0.611000           289.000000            440.000000     1.038980   \n",
       "\n",
       "                pH    sulphates      alcohol      quality  \n",
       "count  5320.000000  5320.000000  5320.000000  5320.000000  \n",
       "mean      3.224664     0.533357    10.549241     5.795677  \n",
       "std       0.160379     0.149743     1.185933     0.879772  \n",
       "min       2.720000     0.220000     8.000000     3.000000  \n",
       "25%       3.110000     0.430000     9.500000     5.000000  \n",
       "50%       3.210000     0.510000    10.400000     6.000000  \n",
       "75%       3.330000     0.600000    11.400000     6.000000  \n",
       "max       4.010000     2.000000    14.900000     9.000000  "
      ]
     },
     "execution_count": 215,
     "metadata": {},
     "output_type": "execute_result"
    }
   ],
   "source": [
    "#Shows the count, mean std fopr the collective winelist\n",
    "wine.describe()"
   ]
  },
  {
   "cell_type": "code",
   "execution_count": 216,
   "id": "96c30d6c-bc1a-4e2a-8d55-f2e95dca1a62",
   "metadata": {},
   "outputs": [
    {
     "data": {
      "text/html": [
       "<div>\n",
       "<style scoped>\n",
       "    .dataframe tbody tr th:only-of-type {\n",
       "        vertical-align: middle;\n",
       "    }\n",
       "\n",
       "    .dataframe tbody tr th {\n",
       "        vertical-align: top;\n",
       "    }\n",
       "\n",
       "    .dataframe thead th {\n",
       "        text-align: right;\n",
       "    }\n",
       "</style>\n",
       "<table border=\"1\" class=\"dataframe\">\n",
       "  <thead>\n",
       "    <tr style=\"text-align: right;\">\n",
       "      <th></th>\n",
       "      <th>fixed acidity</th>\n",
       "      <th>volatile acidity</th>\n",
       "      <th>citric acid</th>\n",
       "      <th>residual sugar</th>\n",
       "      <th>chlorides</th>\n",
       "      <th>free sulfur dioxide</th>\n",
       "      <th>total sulfur dioxide</th>\n",
       "      <th>density</th>\n",
       "      <th>pH</th>\n",
       "      <th>sulphates</th>\n",
       "      <th>alcohol</th>\n",
       "      <th>quality</th>\n",
       "    </tr>\n",
       "  </thead>\n",
       "  <tbody>\n",
       "    <tr>\n",
       "      <th>count</th>\n",
       "      <td>1359.000000</td>\n",
       "      <td>1359.000000</td>\n",
       "      <td>1359.000000</td>\n",
       "      <td>1359.000000</td>\n",
       "      <td>1359.000000</td>\n",
       "      <td>1359.000000</td>\n",
       "      <td>1359.000000</td>\n",
       "      <td>1359.000000</td>\n",
       "      <td>1359.000000</td>\n",
       "      <td>1359.000000</td>\n",
       "      <td>1359.000000</td>\n",
       "      <td>1359.000000</td>\n",
       "    </tr>\n",
       "    <tr>\n",
       "      <th>mean</th>\n",
       "      <td>8.310596</td>\n",
       "      <td>0.529478</td>\n",
       "      <td>0.272333</td>\n",
       "      <td>2.523400</td>\n",
       "      <td>0.088124</td>\n",
       "      <td>15.893304</td>\n",
       "      <td>46.825975</td>\n",
       "      <td>0.996709</td>\n",
       "      <td>3.309787</td>\n",
       "      <td>0.658705</td>\n",
       "      <td>10.432315</td>\n",
       "      <td>5.623252</td>\n",
       "    </tr>\n",
       "    <tr>\n",
       "      <th>std</th>\n",
       "      <td>1.736990</td>\n",
       "      <td>0.183031</td>\n",
       "      <td>0.195537</td>\n",
       "      <td>1.352314</td>\n",
       "      <td>0.049377</td>\n",
       "      <td>10.447270</td>\n",
       "      <td>33.408946</td>\n",
       "      <td>0.001869</td>\n",
       "      <td>0.155036</td>\n",
       "      <td>0.170667</td>\n",
       "      <td>1.082065</td>\n",
       "      <td>0.823578</td>\n",
       "    </tr>\n",
       "    <tr>\n",
       "      <th>min</th>\n",
       "      <td>4.600000</td>\n",
       "      <td>0.120000</td>\n",
       "      <td>0.000000</td>\n",
       "      <td>0.900000</td>\n",
       "      <td>0.012000</td>\n",
       "      <td>1.000000</td>\n",
       "      <td>6.000000</td>\n",
       "      <td>0.990070</td>\n",
       "      <td>2.740000</td>\n",
       "      <td>0.330000</td>\n",
       "      <td>8.400000</td>\n",
       "      <td>3.000000</td>\n",
       "    </tr>\n",
       "    <tr>\n",
       "      <th>25%</th>\n",
       "      <td>7.100000</td>\n",
       "      <td>0.390000</td>\n",
       "      <td>0.090000</td>\n",
       "      <td>1.900000</td>\n",
       "      <td>0.070000</td>\n",
       "      <td>7.000000</td>\n",
       "      <td>22.000000</td>\n",
       "      <td>0.995600</td>\n",
       "      <td>3.210000</td>\n",
       "      <td>0.550000</td>\n",
       "      <td>9.500000</td>\n",
       "      <td>5.000000</td>\n",
       "    </tr>\n",
       "    <tr>\n",
       "      <th>50%</th>\n",
       "      <td>7.900000</td>\n",
       "      <td>0.520000</td>\n",
       "      <td>0.260000</td>\n",
       "      <td>2.200000</td>\n",
       "      <td>0.079000</td>\n",
       "      <td>14.000000</td>\n",
       "      <td>38.000000</td>\n",
       "      <td>0.996700</td>\n",
       "      <td>3.310000</td>\n",
       "      <td>0.620000</td>\n",
       "      <td>10.200000</td>\n",
       "      <td>6.000000</td>\n",
       "    </tr>\n",
       "    <tr>\n",
       "      <th>75%</th>\n",
       "      <td>9.200000</td>\n",
       "      <td>0.640000</td>\n",
       "      <td>0.430000</td>\n",
       "      <td>2.600000</td>\n",
       "      <td>0.091000</td>\n",
       "      <td>21.000000</td>\n",
       "      <td>63.000000</td>\n",
       "      <td>0.997820</td>\n",
       "      <td>3.400000</td>\n",
       "      <td>0.730000</td>\n",
       "      <td>11.100000</td>\n",
       "      <td>6.000000</td>\n",
       "    </tr>\n",
       "    <tr>\n",
       "      <th>max</th>\n",
       "      <td>15.900000</td>\n",
       "      <td>1.580000</td>\n",
       "      <td>1.000000</td>\n",
       "      <td>15.500000</td>\n",
       "      <td>0.611000</td>\n",
       "      <td>72.000000</td>\n",
       "      <td>289.000000</td>\n",
       "      <td>1.003690</td>\n",
       "      <td>4.010000</td>\n",
       "      <td>2.000000</td>\n",
       "      <td>14.900000</td>\n",
       "      <td>8.000000</td>\n",
       "    </tr>\n",
       "  </tbody>\n",
       "</table>\n",
       "</div>"
      ],
      "text/plain": [
       "       fixed acidity  volatile acidity  citric acid  residual sugar  \\\n",
       "count    1359.000000       1359.000000  1359.000000     1359.000000   \n",
       "mean        8.310596          0.529478     0.272333        2.523400   \n",
       "std         1.736990          0.183031     0.195537        1.352314   \n",
       "min         4.600000          0.120000     0.000000        0.900000   \n",
       "25%         7.100000          0.390000     0.090000        1.900000   \n",
       "50%         7.900000          0.520000     0.260000        2.200000   \n",
       "75%         9.200000          0.640000     0.430000        2.600000   \n",
       "max        15.900000          1.580000     1.000000       15.500000   \n",
       "\n",
       "         chlorides  free sulfur dioxide  total sulfur dioxide      density  \\\n",
       "count  1359.000000          1359.000000           1359.000000  1359.000000   \n",
       "mean      0.088124            15.893304             46.825975     0.996709   \n",
       "std       0.049377            10.447270             33.408946     0.001869   \n",
       "min       0.012000             1.000000              6.000000     0.990070   \n",
       "25%       0.070000             7.000000             22.000000     0.995600   \n",
       "50%       0.079000            14.000000             38.000000     0.996700   \n",
       "75%       0.091000            21.000000             63.000000     0.997820   \n",
       "max       0.611000            72.000000            289.000000     1.003690   \n",
       "\n",
       "                pH    sulphates      alcohol      quality  \n",
       "count  1359.000000  1359.000000  1359.000000  1359.000000  \n",
       "mean      3.309787     0.658705    10.432315     5.623252  \n",
       "std       0.155036     0.170667     1.082065     0.823578  \n",
       "min       2.740000     0.330000     8.400000     3.000000  \n",
       "25%       3.210000     0.550000     9.500000     5.000000  \n",
       "50%       3.310000     0.620000    10.200000     6.000000  \n",
       "75%       3.400000     0.730000    11.100000     6.000000  \n",
       "max       4.010000     2.000000    14.900000     8.000000  "
      ]
     },
     "execution_count": 216,
     "metadata": {},
     "output_type": "execute_result"
    }
   ],
   "source": [
    "#Description of red wine - the list is made previously: red_wine = wine[wine[\"type\"] == \"red\"]\n",
    "red_wine.describe()"
   ]
  },
  {
   "cell_type": "code",
   "execution_count": 217,
   "id": "bebe6264-6f5c-4f6f-8154-64364de6071e",
   "metadata": {},
   "outputs": [
    {
     "data": {
      "text/html": [
       "<div>\n",
       "<style scoped>\n",
       "    .dataframe tbody tr th:only-of-type {\n",
       "        vertical-align: middle;\n",
       "    }\n",
       "\n",
       "    .dataframe tbody tr th {\n",
       "        vertical-align: top;\n",
       "    }\n",
       "\n",
       "    .dataframe thead th {\n",
       "        text-align: right;\n",
       "    }\n",
       "</style>\n",
       "<table border=\"1\" class=\"dataframe\">\n",
       "  <thead>\n",
       "    <tr style=\"text-align: right;\">\n",
       "      <th></th>\n",
       "      <th>fixed acidity</th>\n",
       "      <th>volatile acidity</th>\n",
       "      <th>citric acid</th>\n",
       "      <th>residual sugar</th>\n",
       "      <th>chlorides</th>\n",
       "      <th>free sulfur dioxide</th>\n",
       "      <th>total sulfur dioxide</th>\n",
       "      <th>density</th>\n",
       "      <th>pH</th>\n",
       "      <th>sulphates</th>\n",
       "      <th>alcohol</th>\n",
       "      <th>quality</th>\n",
       "    </tr>\n",
       "  </thead>\n",
       "  <tbody>\n",
       "    <tr>\n",
       "      <th>count</th>\n",
       "      <td>3961.000000</td>\n",
       "      <td>3961.000000</td>\n",
       "      <td>3961.000000</td>\n",
       "      <td>3961.000000</td>\n",
       "      <td>3961.000000</td>\n",
       "      <td>3961.000000</td>\n",
       "      <td>3961.000000</td>\n",
       "      <td>3961.000000</td>\n",
       "      <td>3961.000000</td>\n",
       "      <td>3961.000000</td>\n",
       "      <td>3961.000000</td>\n",
       "      <td>3961.000000</td>\n",
       "    </tr>\n",
       "    <tr>\n",
       "      <th>mean</th>\n",
       "      <td>6.839346</td>\n",
       "      <td>0.280538</td>\n",
       "      <td>0.334332</td>\n",
       "      <td>5.914819</td>\n",
       "      <td>0.045905</td>\n",
       "      <td>34.889169</td>\n",
       "      <td>137.193512</td>\n",
       "      <td>0.993790</td>\n",
       "      <td>3.195458</td>\n",
       "      <td>0.490351</td>\n",
       "      <td>10.589358</td>\n",
       "      <td>5.854835</td>\n",
       "    </tr>\n",
       "    <tr>\n",
       "      <th>std</th>\n",
       "      <td>0.866860</td>\n",
       "      <td>0.103437</td>\n",
       "      <td>0.122446</td>\n",
       "      <td>4.861646</td>\n",
       "      <td>0.023103</td>\n",
       "      <td>17.210021</td>\n",
       "      <td>43.129065</td>\n",
       "      <td>0.002905</td>\n",
       "      <td>0.151546</td>\n",
       "      <td>0.113523</td>\n",
       "      <td>1.217076</td>\n",
       "      <td>0.890683</td>\n",
       "    </tr>\n",
       "    <tr>\n",
       "      <th>min</th>\n",
       "      <td>3.800000</td>\n",
       "      <td>0.080000</td>\n",
       "      <td>0.000000</td>\n",
       "      <td>0.600000</td>\n",
       "      <td>0.009000</td>\n",
       "      <td>2.000000</td>\n",
       "      <td>9.000000</td>\n",
       "      <td>0.987110</td>\n",
       "      <td>2.720000</td>\n",
       "      <td>0.220000</td>\n",
       "      <td>8.000000</td>\n",
       "      <td>3.000000</td>\n",
       "    </tr>\n",
       "    <tr>\n",
       "      <th>25%</th>\n",
       "      <td>6.300000</td>\n",
       "      <td>0.210000</td>\n",
       "      <td>0.270000</td>\n",
       "      <td>1.600000</td>\n",
       "      <td>0.035000</td>\n",
       "      <td>23.000000</td>\n",
       "      <td>106.000000</td>\n",
       "      <td>0.991620</td>\n",
       "      <td>3.090000</td>\n",
       "      <td>0.410000</td>\n",
       "      <td>9.500000</td>\n",
       "      <td>5.000000</td>\n",
       "    </tr>\n",
       "    <tr>\n",
       "      <th>50%</th>\n",
       "      <td>6.800000</td>\n",
       "      <td>0.260000</td>\n",
       "      <td>0.320000</td>\n",
       "      <td>4.700000</td>\n",
       "      <td>0.042000</td>\n",
       "      <td>33.000000</td>\n",
       "      <td>133.000000</td>\n",
       "      <td>0.993500</td>\n",
       "      <td>3.180000</td>\n",
       "      <td>0.480000</td>\n",
       "      <td>10.400000</td>\n",
       "      <td>6.000000</td>\n",
       "    </tr>\n",
       "    <tr>\n",
       "      <th>75%</th>\n",
       "      <td>7.300000</td>\n",
       "      <td>0.330000</td>\n",
       "      <td>0.390000</td>\n",
       "      <td>8.900000</td>\n",
       "      <td>0.050000</td>\n",
       "      <td>45.000000</td>\n",
       "      <td>166.000000</td>\n",
       "      <td>0.995710</td>\n",
       "      <td>3.290000</td>\n",
       "      <td>0.550000</td>\n",
       "      <td>11.400000</td>\n",
       "      <td>6.000000</td>\n",
       "    </tr>\n",
       "    <tr>\n",
       "      <th>max</th>\n",
       "      <td>14.200000</td>\n",
       "      <td>1.100000</td>\n",
       "      <td>1.660000</td>\n",
       "      <td>65.800000</td>\n",
       "      <td>0.346000</td>\n",
       "      <td>289.000000</td>\n",
       "      <td>440.000000</td>\n",
       "      <td>1.038980</td>\n",
       "      <td>3.820000</td>\n",
       "      <td>1.080000</td>\n",
       "      <td>14.200000</td>\n",
       "      <td>9.000000</td>\n",
       "    </tr>\n",
       "  </tbody>\n",
       "</table>\n",
       "</div>"
      ],
      "text/plain": [
       "       fixed acidity  volatile acidity  citric acid  residual sugar  \\\n",
       "count    3961.000000       3961.000000  3961.000000     3961.000000   \n",
       "mean        6.839346          0.280538     0.334332        5.914819   \n",
       "std         0.866860          0.103437     0.122446        4.861646   \n",
       "min         3.800000          0.080000     0.000000        0.600000   \n",
       "25%         6.300000          0.210000     0.270000        1.600000   \n",
       "50%         6.800000          0.260000     0.320000        4.700000   \n",
       "75%         7.300000          0.330000     0.390000        8.900000   \n",
       "max        14.200000          1.100000     1.660000       65.800000   \n",
       "\n",
       "         chlorides  free sulfur dioxide  total sulfur dioxide      density  \\\n",
       "count  3961.000000          3961.000000           3961.000000  3961.000000   \n",
       "mean      0.045905            34.889169            137.193512     0.993790   \n",
       "std       0.023103            17.210021             43.129065     0.002905   \n",
       "min       0.009000             2.000000              9.000000     0.987110   \n",
       "25%       0.035000            23.000000            106.000000     0.991620   \n",
       "50%       0.042000            33.000000            133.000000     0.993500   \n",
       "75%       0.050000            45.000000            166.000000     0.995710   \n",
       "max       0.346000           289.000000            440.000000     1.038980   \n",
       "\n",
       "                pH    sulphates      alcohol      quality  \n",
       "count  3961.000000  3961.000000  3961.000000  3961.000000  \n",
       "mean      3.195458     0.490351    10.589358     5.854835  \n",
       "std       0.151546     0.113523     1.217076     0.890683  \n",
       "min       2.720000     0.220000     8.000000     3.000000  \n",
       "25%       3.090000     0.410000     9.500000     5.000000  \n",
       "50%       3.180000     0.480000    10.400000     6.000000  \n",
       "75%       3.290000     0.550000    11.400000     6.000000  \n",
       "max       3.820000     1.080000    14.200000     9.000000  "
      ]
     },
     "execution_count": 217,
     "metadata": {},
     "output_type": "execute_result"
    }
   ],
   "source": [
    "#Description of white wine - the list is made previously: white_wine = wine[wine[\"type\"] == \"white\"]\n",
    "white_wine.describe()"
   ]
  },
  {
   "cell_type": "code",
   "execution_count": 218,
   "id": "b6f20138-c829-4ae6-8612-5ceed8a0b605",
   "metadata": {},
   "outputs": [
    {
     "data": {
      "text/plain": [
       "(1359, 13)"
      ]
     },
     "execution_count": 218,
     "metadata": {},
     "output_type": "execute_result"
    }
   ],
   "source": [
    "#The shape of red wine after cleaning\n",
    "red_wine.shape"
   ]
  },
  {
   "cell_type": "code",
   "execution_count": 219,
   "id": "a3c25b9d-9041-4000-838e-002237177d8b",
   "metadata": {},
   "outputs": [
    {
     "data": {
      "text/plain": [
       "(3961, 13)"
      ]
     },
     "execution_count": 219,
     "metadata": {},
     "output_type": "execute_result"
    }
   ],
   "source": [
    "#The shape of white wine after cleaning\n",
    "white_wine.shape"
   ]
  },
  {
   "cell_type": "markdown",
   "id": "62753450",
   "metadata": {},
   "source": [
    "## Endcoding"
   ]
  },
  {
   "cell_type": "code",
   "execution_count": 220,
   "id": "dd24503d",
   "metadata": {},
   "outputs": [
    {
     "data": {
      "text/html": [
       "<div>\n",
       "<style scoped>\n",
       "    .dataframe tbody tr th:only-of-type {\n",
       "        vertical-align: middle;\n",
       "    }\n",
       "\n",
       "    .dataframe tbody tr th {\n",
       "        vertical-align: top;\n",
       "    }\n",
       "\n",
       "    .dataframe thead th {\n",
       "        text-align: right;\n",
       "    }\n",
       "</style>\n",
       "<table border=\"1\" class=\"dataframe\">\n",
       "  <thead>\n",
       "    <tr style=\"text-align: right;\">\n",
       "      <th></th>\n",
       "      <th>type</th>\n",
       "    </tr>\n",
       "  </thead>\n",
       "  <tbody>\n",
       "    <tr>\n",
       "      <th>0</th>\n",
       "      <td>red</td>\n",
       "    </tr>\n",
       "    <tr>\n",
       "      <th>1</th>\n",
       "      <td>red</td>\n",
       "    </tr>\n",
       "    <tr>\n",
       "      <th>2</th>\n",
       "      <td>red</td>\n",
       "    </tr>\n",
       "    <tr>\n",
       "      <th>3</th>\n",
       "      <td>red</td>\n",
       "    </tr>\n",
       "    <tr>\n",
       "      <th>4</th>\n",
       "      <td>red</td>\n",
       "    </tr>\n",
       "    <tr>\n",
       "      <th>...</th>\n",
       "      <td>...</td>\n",
       "    </tr>\n",
       "    <tr>\n",
       "      <th>5315</th>\n",
       "      <td>white</td>\n",
       "    </tr>\n",
       "    <tr>\n",
       "      <th>5316</th>\n",
       "      <td>white</td>\n",
       "    </tr>\n",
       "    <tr>\n",
       "      <th>5317</th>\n",
       "      <td>white</td>\n",
       "    </tr>\n",
       "    <tr>\n",
       "      <th>5318</th>\n",
       "      <td>white</td>\n",
       "    </tr>\n",
       "    <tr>\n",
       "      <th>5319</th>\n",
       "      <td>white</td>\n",
       "    </tr>\n",
       "  </tbody>\n",
       "</table>\n",
       "<p>5320 rows × 1 columns</p>\n",
       "</div>"
      ],
      "text/plain": [
       "       type\n",
       "0       red\n",
       "1       red\n",
       "2       red\n",
       "3       red\n",
       "4       red\n",
       "...     ...\n",
       "5315  white\n",
       "5316  white\n",
       "5317  white\n",
       "5318  white\n",
       "5319  white\n",
       "\n",
       "[5320 rows x 1 columns]"
      ]
     },
     "execution_count": 220,
     "metadata": {},
     "output_type": "execute_result"
    }
   ],
   "source": [
    "#Pre Label encoding - Categorical Encoding\n",
    "wine.dtypes\n",
    "\n",
    "wine[\"type\"] = wine[\"type\"].astype(\"category\")\n",
    "\n",
    "wine.dtypes\n",
    "\n",
    "cat_data = wine.select_dtypes('category').columns\n",
    "\n",
    "cat_data\n",
    "\n",
    "# print these columns only\n",
    "wine[cat_data].sample(10)\n",
    "\n",
    "categorical_data = wine[cat_data]\n",
    "categorical_data"
   ]
  },
  {
   "cell_type": "code",
   "execution_count": 221,
   "id": "aa91fa4c",
   "metadata": {},
   "outputs": [
    {
     "data": {
      "text/html": [
       "<div>\n",
       "<style scoped>\n",
       "    .dataframe tbody tr th:only-of-type {\n",
       "        vertical-align: middle;\n",
       "    }\n",
       "\n",
       "    .dataframe tbody tr th {\n",
       "        vertical-align: top;\n",
       "    }\n",
       "\n",
       "    .dataframe thead th {\n",
       "        text-align: right;\n",
       "    }\n",
       "</style>\n",
       "<table border=\"1\" class=\"dataframe\">\n",
       "  <thead>\n",
       "    <tr style=\"text-align: right;\">\n",
       "      <th></th>\n",
       "      <th>type</th>\n",
       "      <th>type_encoded</th>\n",
       "    </tr>\n",
       "  </thead>\n",
       "  <tbody>\n",
       "    <tr>\n",
       "      <th>4</th>\n",
       "      <td>red</td>\n",
       "      <td>0</td>\n",
       "    </tr>\n",
       "    <tr>\n",
       "      <th>3250</th>\n",
       "      <td>white</td>\n",
       "      <td>1</td>\n",
       "    </tr>\n",
       "    <tr>\n",
       "      <th>1614</th>\n",
       "      <td>white</td>\n",
       "      <td>1</td>\n",
       "    </tr>\n",
       "    <tr>\n",
       "      <th>4526</th>\n",
       "      <td>white</td>\n",
       "      <td>1</td>\n",
       "    </tr>\n",
       "    <tr>\n",
       "      <th>1848</th>\n",
       "      <td>white</td>\n",
       "      <td>1</td>\n",
       "    </tr>\n",
       "    <tr>\n",
       "      <th>4061</th>\n",
       "      <td>white</td>\n",
       "      <td>1</td>\n",
       "    </tr>\n",
       "    <tr>\n",
       "      <th>446</th>\n",
       "      <td>red</td>\n",
       "      <td>0</td>\n",
       "    </tr>\n",
       "    <tr>\n",
       "      <th>3672</th>\n",
       "      <td>white</td>\n",
       "      <td>1</td>\n",
       "    </tr>\n",
       "    <tr>\n",
       "      <th>1244</th>\n",
       "      <td>red</td>\n",
       "      <td>0</td>\n",
       "    </tr>\n",
       "    <tr>\n",
       "      <th>4110</th>\n",
       "      <td>white</td>\n",
       "      <td>1</td>\n",
       "    </tr>\n",
       "  </tbody>\n",
       "</table>\n",
       "</div>"
      ],
      "text/plain": [
       "       type  type_encoded\n",
       "4       red             0\n",
       "3250  white             1\n",
       "1614  white             1\n",
       "4526  white             1\n",
       "1848  white             1\n",
       "4061  white             1\n",
       "446     red             0\n",
       "3672  white             1\n",
       "1244    red             0\n",
       "4110  white             1"
      ]
     },
     "execution_count": 221,
     "metadata": {},
     "output_type": "execute_result"
    }
   ],
   "source": [
    "# Label Endcoding which is converting the text values into numerical values\n",
    "\n",
    "cats = categorical_data[\"type\"].unique()\n",
    "cats\n",
    "\n",
    "categorical_data = wine[[\"type\"]].copy()\n",
    "categorical_data[\"type_encoded\"] = categorical_data[\"type\"].cat.codes\n",
    "categorical_data.sample(10)"
   ]
  },
  {
   "cell_type": "code",
   "execution_count": 222,
   "id": "08e92a97",
   "metadata": {},
   "outputs": [
    {
     "name": "stdout",
     "output_type": "stream",
     "text": [
      "      fixed acidity  volatile acidity  citric acid  residual sugar  chlorides  \\\n",
      "0               7.4              0.70         0.00             1.9      0.076   \n",
      "1               7.8              0.88         0.00             2.6      0.098   \n",
      "2               7.8              0.76         0.04             2.3      0.092   \n",
      "3              11.2              0.28         0.56             1.9      0.075   \n",
      "4               7.4              0.66         0.00             1.8      0.075   \n",
      "...             ...               ...          ...             ...        ...   \n",
      "5315            6.2              0.21         0.29             1.6      0.039   \n",
      "5316            6.6              0.32         0.36             8.0      0.047   \n",
      "5317            6.5              0.24         0.19             1.2      0.041   \n",
      "5318            5.5              0.29         0.30             1.1      0.022   \n",
      "5319            6.0              0.21         0.38             0.8      0.020   \n",
      "\n",
      "      free sulfur dioxide  total sulfur dioxide  density    pH  sulphates  \\\n",
      "0                    11.0                  34.0  0.99780  3.51       0.56   \n",
      "1                    25.0                  67.0  0.99680  3.20       0.68   \n",
      "2                    15.0                  54.0  0.99700  3.26       0.65   \n",
      "3                    17.0                  60.0  0.99800  3.16       0.58   \n",
      "4                    13.0                  40.0  0.99780  3.51       0.56   \n",
      "...                   ...                   ...      ...   ...        ...   \n",
      "5315                 24.0                  92.0  0.99114  3.27       0.50   \n",
      "5316                 57.0                 168.0  0.99490  3.15       0.46   \n",
      "5317                 30.0                 111.0  0.99254  2.99       0.46   \n",
      "5318                 20.0                 110.0  0.98869  3.34       0.38   \n",
      "5319                 22.0                  98.0  0.98941  3.26       0.32   \n",
      "\n",
      "      alcohol  quality  type_encoded  \n",
      "0         9.4        5             0  \n",
      "1         9.8        5             0  \n",
      "2         9.8        5             0  \n",
      "3         9.8        6             0  \n",
      "4         9.4        5             0  \n",
      "...       ...      ...           ...  \n",
      "5315     11.2        6             1  \n",
      "5316      9.6        5             1  \n",
      "5317      9.4        6             1  \n",
      "5318     12.8        7             1  \n",
      "5319     11.8        6             1  \n",
      "\n",
      "[5320 rows x 13 columns]\n"
     ]
    }
   ],
   "source": [
    "# adding the encoded column to the original dataframe and dropping the text column\n",
    "# White wine = 1 and red wine = 0\n",
    "wine[\"type_encoded\"] = wine[\"type\"].cat.codes\n",
    "wine_transformed = wine.drop([\"type\"], axis=1)\n",
    "\n",
    "print(wine_transformed)"
   ]
  },
  {
   "cell_type": "markdown",
   "id": "efd46520",
   "metadata": {},
   "source": [
    "### Normalization"
   ]
  },
  {
   "cell_type": "code",
   "execution_count": 223,
   "id": "1f6ac2bb",
   "metadata": {},
   "outputs": [],
   "source": [
    "# normalization - Scaling the data to a range of 0 to 1\n",
    "\n",
    "scaler = MinMaxScaler()\n",
    "# cols_to_normalize = [\"quality\", \"alcohol\", \"residual sugar\", \"free sulfur dioxide\", \"total sulfur dioxide\"]\n",
    "wine_norm = wine_transformed.copy()\n",
    "wine_norm = scaler.fit_transform(wine_transformed)"
   ]
  },
  {
   "cell_type": "markdown",
   "id": "48df32b0",
   "metadata": {},
   "source": [
    "## Exploration"
   ]
  },
  {
   "cell_type": "code",
   "execution_count": 224,
   "id": "5b0d4b39",
   "metadata": {},
   "outputs": [
    {
     "data": {
      "image/png": "[encoded data removed]",
      "text/plain": [
       "<Figure size 800x500 with 1 Axes>"
      ]
     },
     "metadata": {},
     "output_type": "display_data"
    }
   ],
   "source": [
    "# 8,a which type of wine has higher average quality, how big is the difference?\n",
    "plt.figure(figsize=(8,5))\n",
    "bins = sorted(wine[\"quality\"].unique())\n",
    "\n",
    "plt.hist(\n",
    "    [wine[wine[\"type\"]==\"red\"][\"quality\"], wine[wine[\"type\"]==\"white\"][\"quality\"]],\n",
    "    bins=bins,\n",
    "    label=[\"Red wine\", \"White wine\"],\n",
    "    color=[\"red\", \"orange\"],\n",
    "    alpha=0.7,\n",
    "    rwidth=0.85\n",
    ")\n",
    "\n",
    "plt.xlabel(\"Quality\")\n",
    "plt.ylabel(\"Count\")\n",
    "plt.title(\"Histogram of Wine Quality by Type\")\n",
    "plt.legend()\n",
    "plt.show()"
   ]
  },
  {
   "cell_type": "code",
   "execution_count": 225,
   "id": "14764a38",
   "metadata": {},
   "outputs": [
    {
     "data": {
      "image/png": "[encoded data removed]",
      "text/plain": [
       "<Figure size 1200x400 with 3 Axes>"
      ]
     },
     "metadata": {},
     "output_type": "display_data"
    }
   ],
   "source": [
    "# a. Boxplots for at sammenligne fordelingen af quality, alcohol og residual sugar\n",
    "plt.figure(figsize=(12,4))\n",
    "plt.subplot(1,3,1)\n",
    "sb.boxplot(x=\"type\", y=\"quality\", data=wine)\n",
    "plt.title(\"Quality by Wine Type\")\n",
    "plt.subplot(1,3,2)\n",
    "sb.boxplot(x=\"type\", y=\"alcohol\", data=wine)\n",
    "plt.title(\"Alcohol by Wine Type\")\n",
    "plt.subplot(1,3,3)\n",
    "sb.boxplot(x=\"type\", y=\"residual sugar\", data=wine)\n",
    "plt.title(\"Residual Sugar by Wine Type\")\n",
    "plt.tight_layout()\n",
    "plt.show()"
   ]
  },
  {
   "cell_type": "code",
   "execution_count": 226,
   "id": "bd12cd4d",
   "metadata": {},
   "outputs": [
    {
     "name": "stdout",
     "output_type": "stream",
     "text": [
      "average quality:\n",
      " type\n",
      "red      5.623252\n",
      "white    5.854835\n",
      "Name: quality, dtype: float64\n",
      "difference: 0.2315822462534367\n"
     ]
    },
    {
     "name": "stderr",
     "output_type": "stream",
     "text": [
      "C:\\Users\\Rolfj\\AppData\\Local\\Temp\\ipykernel_25316\\2172461371.py:2: FutureWarning: The default of observed=False is deprecated and will be changed to True in a future version of pandas. Pass observed=False to retain current behavior or observed=True to adopt the future default and silence this warning.\n",
      "  mean_quality = wine.groupby(\"type\")[\"quality\"].mean()\n"
     ]
    }
   ],
   "source": [
    "# which type of wine has higher average quality, how big is the difference?\n",
    "mean_quality = wine.groupby(\"type\")[\"quality\"].mean()\n",
    "print(\"average quality:\\n\", mean_quality)\n",
    "print(\"difference:\", abs(mean_quality[\"white\"] - mean_quality[\"red\"]))\n",
    "\n",
    "# white has on average higher quality"
   ]
  },
  {
   "cell_type": "code",
   "execution_count": 227,
   "id": "61d5da46",
   "metadata": {},
   "outputs": [
    {
     "name": "stdout",
     "output_type": "stream",
     "text": [
      "Average alcohol:\n",
      " type\n",
      "red      10.432315\n",
      "white    10.589358\n",
      "Name: alcohol, dtype: float64\n",
      "difference: 0.15704247824183604\n"
     ]
    },
    {
     "name": "stderr",
     "output_type": "stream",
     "text": [
      "C:\\Users\\Rolfj\\AppData\\Local\\Temp\\ipykernel_25316\\1182970469.py:2: FutureWarning: The default of observed=False is deprecated and will be changed to True in a future version of pandas. Pass observed=False to retain current behavior or observed=True to adopt the future default and silence this warning.\n",
      "  mean_alcohol = wine.groupby(\"type\")[\"alcohol\"].mean()\n"
     ]
    }
   ],
   "source": [
    "# which type of wine has higher average level of alcohol?\n",
    "mean_alcohol = wine.groupby(\"type\")[\"alcohol\"].mean()\n",
    "print(\"Average alcohol:\\n\", mean_alcohol)\n",
    "print(\"difference:\", abs(mean_alcohol[\"white\"] - mean_alcohol[\"red\"]))\n",
    "\n",
    "# white has on average higher level of alcohol"
   ]
  },
  {
   "cell_type": "code",
   "execution_count": 228,
   "id": "610ae86a",
   "metadata": {},
   "outputs": [
    {
     "name": "stdout",
     "output_type": "stream",
     "text": [
      "Average residual sugar:\n",
      " type\n",
      "red      2.523400\n",
      "white    5.914819\n",
      "Name: residual sugar, dtype: float64\n",
      "difference: 3.3914199315288736\n"
     ]
    },
    {
     "name": "stderr",
     "output_type": "stream",
     "text": [
      "C:\\Users\\Rolfj\\AppData\\Local\\Temp\\ipykernel_25316\\3742301362.py:3: FutureWarning: The default of observed=False is deprecated and will be changed to True in a future version of pandas. Pass observed=False to retain current behavior or observed=True to adopt the future default and silence this warning.\n",
      "  mean_sugar = wine.groupby(\"type\")[\"residual sugar\"].mean()\n"
     ]
    }
   ],
   "source": [
    "# which one has higher average quantity of residual sugar?\n",
    "\n",
    "mean_sugar = wine.groupby(\"type\")[\"residual sugar\"].mean()\n",
    "print(\"Average residual sugar:\\n\", mean_sugar)\n",
    "print(\"difference:\", abs(mean_sugar[\"white\"] - mean_sugar[\"red\"]))\n",
    "\n",
    "# white has on average higher quantity of residual sugar"
   ]
  },
  {
   "cell_type": "code",
   "execution_count": 229,
   "id": "b0d400c3",
   "metadata": {},
   "outputs": [
    {
     "data": {
      "image/png": "[encoded data removed]",
      "text/plain": [
       "<Figure size 1000x400 with 2 Axes>"
      ]
     },
     "metadata": {},
     "output_type": "display_data"
    }
   ],
   "source": [
    "plt.figure(figsize=(10,4))\n",
    "plt.subplot(1,2,1)\n",
    "sb.scatterplot(x=\"alcohol\", y=\"quality\", hue=\"type\", data=wine, alpha=0.5)\n",
    "plt.title(\"Alcohol vs. Quality\")\n",
    "plt.subplot(1,2,2)\n",
    "sb.scatterplot(x=\"residual sugar\", y=\"quality\", hue=\"type\", data=wine, alpha=0.5)\n",
    "plt.title(\"Residual Sugar vs. Quality\")\n",
    "plt.tight_layout()\n",
    "plt.show()"
   ]
  },
  {
   "cell_type": "code",
   "execution_count": 230,
   "id": "cc855b98",
   "metadata": {},
   "outputs": [
    {
     "name": "stdout",
     "output_type": "stream",
     "text": [
      "Korrelationskoefficient (alcohol vs. quality):\n",
      "          alcohol   quality\n",
      "alcohol  1.000000  0.469422\n",
      "quality  0.469422  1.000000\n",
      "Korrelationskoefficient (residual sugar vs. quality):\n",
      "                residual sugar  quality\n",
      "residual sugar         1.00000 -0.05683\n",
      "quality               -0.05683  1.00000\n"
     ]
    }
   ],
   "source": [
    "print(\"Korrelationskoefficient (alcohol vs. quality):\")\n",
    "print(wine[[\"alcohol\", \"quality\"]].corr())\n",
    "print(\"Korrelationskoefficient (residual sugar vs. quality):\")\n",
    "print(wine[[\"residual sugar\", \"quality\"]].corr())"
   ]
  },
  {
   "cell_type": "code",
   "execution_count": 231,
   "id": "1cf0ccaf",
   "metadata": {},
   "outputs": [
    {
     "name": "stdout",
     "output_type": "stream",
     "text": [
      "5 bins\n",
      "All wines: Number of bins = 5 Highest density in pH range of (2.978, 3.236] with 2687 samples\n",
      "Red wines: Number of bins = 5 Highest density in pH range of (3.248, 3.502] with 764 samples\n",
      "White wines: Number of bins = 5 Highest density in pH range of (3.16, 3.38] with 1765 samples\n",
      "\n",
      "10 bins\n",
      "All wines: Number of bins = 10 Highest density in pH range of (3.107, 3.236] with 1718 samples\n",
      "Red wines: Number of bins = 10 Highest density in pH range of (3.248, 3.375] with 470 samples\n",
      "White wines: Number of bins = 10 Highest density in pH range of (3.05, 3.16] with 1116 samples\n"
     ]
    },
    {
     "data": {
      "text/plain": [
       "pH\n",
       "(2.719, 2.83]      12\n",
       "(2.83, 2.94]      131\n",
       "(2.94, 3.05]      521\n",
       "(3.05, 3.16]     1116\n",
       "(3.16, 3.27]     1095\n",
       "(3.27, 3.38]      670\n",
       "(3.38, 3.49]      260\n",
       "(3.49, 3.6]       113\n",
       "(3.6, 3.71]        28\n",
       "(3.71, 3.82]       15\n",
       "Name: count, dtype: int64"
      ]
     },
     "execution_count": 231,
     "metadata": {},
     "output_type": "execute_result"
    }
   ],
   "source": [
    "#Binning wines in groups of 5 and 10 bins.\n",
    "\n",
    "def find_highest_density(df, bins, label):\n",
    "    #Bin the pH column\n",
    "    binned = pd.cut(df[\"pH\"], bins=bins)\n",
    "    \n",
    "    counts = binned.value_counts().sort_index()\n",
    "    \n",
    "    #Print the densest bin.\n",
    "    max_bin = counts.idxmax()\n",
    "    print(f\"{label}: Number of bins = {bins} Highest density in pH range of {max_bin} with {counts.max()} samples\")\n",
    "    return counts\n",
    "\n",
    "print(\"5 bins\")\n",
    "find_highest_density(wine, bins=5, label=\"All wines\")\n",
    "find_highest_density(wine[wine[\"type_encoded\"]==0], bins=5, label=\"Red wines\")\n",
    "find_highest_density(wine[wine[\"type_encoded\"]==1], bins=5, label=\"White wines\")\n",
    "\n",
    "print(\"\\n10 bins\")\n",
    "find_highest_density(wine, bins=10, label=\"All wines\")\n",
    "find_highest_density(wine[wine[\"type_encoded\"]==0], bins=10, label=\"Red wines\")\n",
    "find_highest_density(wine[wine[\"type_encoded\"]==1], bins=10, label=\"White wines\")"
   ]
  },
  {
   "cell_type": "code",
   "execution_count": 232,
   "id": "486dd6b4",
   "metadata": {},
   "outputs": [
    {
     "data": {
      "image/png": "[encoded data removed]",
      "text/plain": [
       "<Figure size 1200x600 with 1 Axes>"
      ]
     },
     "metadata": {},
     "output_type": "display_data"
    }
   ],
   "source": [
    "#Visual graph for pH density on red, white and all wines combined.\n",
    "plt.figure(figsize=(12,6))\n",
    "\n",
    "#Change bins=x the higer x is the more detailed the graph gets.\n",
    "plt.hist(wine[wine[\"type_encoded\"]==0][\"pH\"], bins=20, alpha=0.5, label=\"Red wine\", edgecolor=\"black\", color=\"red\")\n",
    "plt.hist(wine[wine[\"type_encoded\"]==1][\"pH\"], bins=20, alpha=0.5, label=\"White wine\", edgecolor=\"black\", color=\"orange\")\n",
    "plt.hist(wine[\"pH\"], bins=20, alpha=0.5, label=\"All wines\", edgecolor=\"black\")\n",
    "\n",
    "plt.xlabel(\"pH\")\n",
    "plt.ylabel(\"Count\")\n",
    "plt.title(\"pH Distribution of Red, White, and Combined Wine\")\n",
    "plt.legend()\n",
    "plt.show()"
   ]
  },
  {
   "cell_type": "code",
   "execution_count": 233,
   "id": "5bc7677c",
   "metadata": {},
   "outputs": [
    {
     "data": {
      "image/png": "[encoded data removed]",
      "text/plain": [
       "<Figure size 1200x500 with 2 Axes>"
      ]
     },
     "metadata": {},
     "output_type": "display_data"
    }
   ],
   "source": [
    "#Individual graphs for red and white wines.\n",
    "fig, axes = plt.subplots(1, 2, figsize=(12,5), sharey=True)\n",
    "\n",
    "axes[0].hist(wine[wine[\"type_encoded\"]==0][\"pH\"], bins=20, color=\"red\", edgecolor=\"black\")\n",
    "axes[0].set_title(\"Red Wine pH Distribution\")\n",
    "axes[0].set_xlabel(\"pH\")\n",
    "axes[0].set_ylabel(\"Count\")\n",
    "\n",
    "axes[1].hist(wine[wine[\"type_encoded\"]==1][\"pH\"], bins=20, color=\"orange\", edgecolor=\"black\")\n",
    "axes[1].set_title(\"White Wine pH Distribution\")\n",
    "axes[1].set_xlabel(\"pH\")\n",
    "\n",
    "plt.suptitle(\"Individual Histograms by Wine Type\", fontsize=14)\n",
    "plt.show()"
   ]
  },
  {
   "cell_type": "code",
   "execution_count": 234,
   "id": "5c80937a",
   "metadata": {},
   "outputs": [
    {
     "name": "stderr",
     "output_type": "stream",
     "text": [
      "C:\\Users\\Rolfj\\AppData\\Local\\Temp\\ipykernel_25316\\2959171248.py:7: FutureWarning: The default of observed=False is deprecated and will be changed to True in a future version of pandas. Pass observed=False to retain current behavior or observed=True to adopt the future default and silence this warning.\n",
      "  category_counts = wine.groupby([\"pH_category\", \"type_encoded\"]).size().unstack(fill_value=0)\n"
     ]
    },
    {
     "data": {
      "image/png": "[encoded data removed]",
      "text/plain": [
       "<Figure size 900x600 with 1 Axes>"
      ]
     },
     "metadata": {},
     "output_type": "display_data"
    }
   ],
   "source": [
    "#Define bins and labels\n",
    "bins = [2.5, 3.1, 3.4, 4.5]  \n",
    "labels = [\"Low\", \"Medium\", \"High\"]\n",
    "\n",
    "wine[\"pH_category\"] = pd.cut(wine[\"pH\"], bins=bins, labels=labels)\n",
    "\n",
    "category_counts = wine.groupby([\"pH_category\", \"type_encoded\"]).size().unstack(fill_value=0)\n",
    "category_counts.columns = [\"Red wine\", \"White wine\"]\n",
    "\n",
    "range_labels = [\n",
    "    f\"Low ({bins[0]}–{bins[1]})\",\n",
    "    f\"Medium ({bins[1]}–{bins[2]})\",\n",
    "    f\"High ({bins[2]}–{bins[3]})\"\n",
    "]\n",
    "\n",
    "ax = category_counts.plot(\n",
    "    kind=\"bar\", \n",
    "    stacked=True, \n",
    "    color=[\"red\", \"orange\"], \n",
    "    edgecolor=\"black\",\n",
    "    figsize=(9,6)\n",
    ")\n",
    "\n",
    "ax.set_xlabel(\"pH Category\")\n",
    "ax.set_ylabel(\"Count\")\n",
    "ax.set_title(\"Wine Distribution by pH Category (Red vs White Wine)\")\n",
    "ax.set_xticklabels(range_labels, rotation=0)\n",
    "plt.legend()\n",
    "plt.show()"
   ]
  },
  {
   "cell_type": "code",
   "execution_count": 235,
   "id": "cdd58d58-1f1e-4189-9d16-f2b66edd7d87",
   "metadata": {},
   "outputs": [],
   "source": [
    "# Scatterplot: x = index (bare rækkefølgen af vin), y = pH\n",
    "# plt.figure(figsize=(10,6))\n",
    "# plt.scatter(wine.index, wine[\"pH\"], alpha=0.5, c=wine[\"type\"].map({\"red\":\"red\",\"white\":\"orange\"}))\n",
    "# plt.xlabel(\"Vin index\")\n",
    "# plt.ylabel(\"pH\")\n",
    "# plt.title(\"Scatterplot af pH værdier for rød og hvid vin\")\n",
    "# plt.show()\n"
   ]
  },
  {
   "cell_type": "code",
   "execution_count": 236,
   "id": "a3e529ce-a7de-4f8d-8e36-d7bfab4b2bf8",
   "metadata": {},
   "outputs": [],
   "source": [
    "# Scatterplot: x = x = fixed acidity, y = pH\n",
    "# plt.figure(figsize=(10,6))\n",
    "# plt.scatter(wine[\"fixed acidity\"], wine[\"pH\"], alpha=0.5, c=wine[\"type\"].map({\"red\":\"red\",\"white\":\"orange\"}))\n",
    "# plt.xlabel(\"Fixed acidity\")\n",
    "# plt.ylabel(\"pH\")\n",
    "# plt.title(\"Scatterplot af pH værdier for rød og hvid vin, i forhold til fixed acidity\")\n",
    "# plt.show()"
   ]
  },
  {
   "cell_type": "code",
   "execution_count": 237,
   "id": "9a4f2dfa-3333-45d0-a2f2-6b925d3ffd01",
   "metadata": {},
   "outputs": [],
   "source": [
    "# Scatterplot: x = volatile acidity, y = pH\n",
    "# plt.figure(figsize=(10,6))\n",
    "# plt.scatter(wine[\"volatile acidity\"], wine[\"pH\"], alpha=0.5, c=wine[\"type\"].map({\"red\":\"red\",\"white\":\"orange\"}))\n",
    "# plt.xlabel(\"Volatile acidity\")\n",
    "# plt.ylabel(\"pH\")\n",
    "# plt.title(\"Scatterplot af pH værdier for rød og hvid vin, i forhold til volatile acidity\")\n",
    "# plt.show()"
   ]
  },
  {
   "cell_type": "code",
   "execution_count": 238,
   "id": "51a9dc52-3abe-45d0-af74-d0efbf9b0896",
   "metadata": {},
   "outputs": [],
   "source": [
    "# Scatterplot: x = volatile acidity, y = fixed acidity\n",
    "# plt.figure(figsize=(10,6))\n",
    "# plt.scatter(wine[\"volatile acidity\"], wine[\"fixed acidity\"], alpha=0.5, c=wine[\"type\"].map({\"red\":\"red\",\"white\":\"orange\"}))\n",
    "# plt.xlabel(\"Volatile acidity\")\n",
    "# plt.ylabel(\"Fixed acidity\")\n",
    "# plt.title(\"Scatterplot af volatile acidity værdier for rød og hvid vin, i forhold til fixed acidity\")\n",
    "# plt.show()"
   ]
  },
  {
   "cell_type": "code",
   "execution_count": 239,
   "id": "e61d9cad-6e22-416e-ac82-7fd363f621aa",
   "metadata": {},
   "outputs": [],
   "source": [
    "# Scatterplot: x = alcohol, y = quality\n",
    "# plt.figure(figsize=(10,10))\n",
    "# plt.scatter(wine[\"alcohol\"], wine[\"quality\"], alpha=0.5, c=wine[\"type\"].map({\"red\":\"red\",\"white\":\"orange\"}))\n",
    "# plt.xlabel(\"Alcohol\")\n",
    "# plt.ylabel(\"Quality\")\n",
    "# plt.title(\"Scatterplot af alcohol værdier for rød og hvid vin, i forhold til quality\")\n",
    "# plt.show()"
   ]
  },
  {
   "cell_type": "code",
   "execution_count": 240,
   "id": "4c95cf07-a426-48a5-9079-f77916bbe34d",
   "metadata": {},
   "outputs": [],
   "source": [
    "#KOMMER BARE FRA CHAT\n",
    "# plt.figure(figsize=(8,6))\n",
    "# wine.boxplot(column=\"pH\", by=\"type\", grid=False, patch_artist=True,\n",
    "#              boxprops=dict(facecolor=\"lightblue\"),\n",
    "#              medianprops=dict(color=\"red\"))\n",
    "# plt.title(\"Boxplot af pH værdier for rød vs. hvid vin\")\n",
    "# plt.suptitle(\"\")  # fjerner standardtitel\n",
    "# plt.xlabel(\"Vin type\")\n",
    "# plt.ylabel(\"pH\")\n",
    "# plt.show()"
   ]
  },
  {
   "cell_type": "code",
   "execution_count": 241,
   "id": "9283734b",
   "metadata": {},
   "outputs": [],
   "source": [
    "# plt.hist(wine[\"pH\"], bins=5, edgecolor=\"black\")\n",
    "# plt.xlabel(\"pH\")\n",
    "# plt.ylabel(\"Frekvens\")\n",
    "# plt.title(\"Histogram af pH-værdier\")\n",
    "# plt.show()"
   ]
  }
 ],
 "metadata": {
  "kernelspec": {
   "display_name": "base",
   "language": "python",
   "name": "python3"
  },
  "language_info": {
   "codemirror_mode": {
    "name": "ipython",
    "version": 3
   },
   "file_extension": ".py",
   "mimetype": "text/x-python",
   "name": "python",
   "nbconvert_exporter": "python",
   "pygments_lexer": "ipython3",
   "version": "3.13.5"
  }
 },
 "nbformat": 4,
 "nbformat_minor": 5
}
